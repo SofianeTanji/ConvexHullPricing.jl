{
 "cells": [
  {
   "cell_type": "code",
   "execution_count": null,
   "metadata": {},
   "outputs": [],
   "source": [
    "using JLD2\n",
    "using Plots"
   ]
  },
  {
   "cell_type": "code",
   "execution_count": 199,
   "metadata": {},
   "outputs": [
    {
     "data": {
      "text/plain": [
       "20"
      ]
     },
     "metadata": {},
     "output_type": "display_data"
    }
   ],
   "source": [
    "I = 20"
   ]
  },
  {
   "cell_type": "code",
   "execution_count": 200,
   "metadata": {},
   "outputs": [
    {
     "data": {
      "text/plain": [
       "2-element Vector{Vector{Float64}}:\n",
       " [0.0, 5.4747388, 11.1457023, 16.8183893, 22.3200946, 27.8739379, 33.4458939, 39.0460907, 44.4574579, 50.031784900000005  …  848.8970441999995, 854.5971316999995, 860.2674432999995, 866.0562381999995, 871.6794894999995, 877.4923917999995, 883.4673454999995, 889.3827659999995, 895.0393087999995, 900.7890744999995]\n",
       " [437.34417247772217, 961.3502674102783, 553.8752727508545, 417.74719429016113, 378.1065149307251, 367.7066059112549, 347.34593200683594, 326.47523021698, 311.71998500823975, 296.48057079315186  …  162.3540906906128, 162.30859756469727, 162.26940250396729, 161.52734088897705, 160.8542251586914, 160.77892971038818, 160.98823833465576, 160.39234161376953, 160.63587093353271, 159.9493589401245]"
      ]
     },
     "metadata": {},
     "output_type": "display_data"
    }
   ],
   "source": [
    "BLM_time, BLM_val = load_object(\"C:\\\\Users\\\\Sofiane\\\\Desktop\\\\ConvexHullPricing\\\\results\\\\december\\\\Californian$(I)BLM\")\n",
    "BPLM_time, BPLM_val = load_object(\"C:\\\\Users\\\\Sofiane\\\\Desktop\\\\ConvexHullPricing\\\\results\\\\december\\\\Californian$(I)BPLM\")\n",
    "DA_time, DA_val = load_object(\"C:\\\\Users\\\\Sofiane\\\\Desktop\\\\ConvexHullPricing\\\\results\\\\december\\\\Californian$(I)DA\")\n",
    "DOWG_time, DOWG_val = load_object(\"C:\\\\Users\\\\Sofiane\\\\Desktop\\\\ConvexHullPricing\\\\results\\\\december\\\\Californian$(I)DOWG\")\n",
    "ESTPOL_time, ESTPOL_val = load_object(\"C:\\\\Users\\\\Sofiane\\\\Desktop\\\\ConvexHullPricing\\\\results\\\\december\\\\Californian$(I)ESTPOL\")\n",
    "SUBG_time, SUBG_val = load_object(\"C:\\\\Users\\\\Sofiane\\\\Desktop\\\\ConvexHullPricing\\\\results\\\\december\\\\Californian$(I)SUBG\")"
   ]
  },
  {
   "cell_type": "code",
   "execution_count": 201,
   "metadata": {},
   "outputs": [
    {
     "data": {
      "text/plain": [
       "78.57626438140869"
      ]
     },
     "metadata": {},
     "output_type": "display_data"
    }
   ],
   "source": [
    "minimum(DOWG_val)"
   ]
  },
  {
   "cell_type": "code",
   "execution_count": 202,
   "metadata": {},
   "outputs": [
    {
     "data": {
      "text/plain": [
       "161-element Vector{Float64}:\n",
       " 362.34417247772217\n",
       " 886.3502674102783\n",
       " 478.8752727508545\n",
       " 342.74719429016113\n",
       " 303.1065149307251\n",
       " 292.7066059112549\n",
       " 272.34593200683594\n",
       " 251.47523021697998\n",
       " 236.71998500823975\n",
       " 221.48057079315186\n",
       "   ⋮\n",
       "  87.30859756469727\n",
       "  87.26940250396729\n",
       "  86.52734088897705\n",
       "  85.8542251586914\n",
       "  85.77892971038818\n",
       "  85.98823833465576\n",
       "  85.39234161376953\n",
       "  85.63587093353271\n",
       "  84.94935894012451"
      ]
     },
     "metadata": {},
     "output_type": "display_data"
    }
   ],
   "source": [
    "BLM_val .-= 75\n",
    "BPLM_val .-= 75\n",
    "DA_val .-= 75\n",
    "DOWG_val .-= 75\n",
    "ESTPOL_val .-= 75\n",
    "SUBG_val .-= 75"
   ]
  },
  {
   "cell_type": "code",
   "execution_count": 203,
   "metadata": {},
   "outputs": [],
   "source": [
    "plot(title = \"Comparison of methods for computing CH prices\", xlabel = \"Time in seconds\", ylabel = \"Distance to f*\", ylims=(0, 500))\n",
    "plot!(BLM_time[2:end], BLM_val, label = \"BLM\")\n",
    "plot!(BPLM_time[2:end], BPLM_val, label = \"BPLM\")\n",
    "plot!(DA_time[2:end], DA_val, label = \"DA\")\n",
    "plot!(DOWG_time[2:end], DOWG_val, label = \"DOWG\")\n",
    "plot!(ESTPOL_time[2:end], ESTPOL_val, label = \"Est. Polyak\")\n",
    "plot!(SUBG_time[2:end], SUBG_val, label = \"SUBG\")\n",
    "\n",
    "savefig(\"december\\\\Californian$(I)\")\n",
    "save_object(\"december\\\\Californian$(I)BLM\", [BLM_time, BLM_val])\n",
    "save_object(\"december\\\\Californian$(I)BPLM\", [BPLM_time, BPLM_val])\n",
    "save_object(\"december\\\\Californian$(I)DA\", [DA_time, DA_val])\n",
    "save_object(\"december\\\\Californian$(I)DOWG\", [DOWG_time, DOWG_val])\n",
    "save_object(\"december\\\\Californian$(I)ESTPOL\", [ESTPOL_time, ESTPOL_val])\n",
    "save_object(\"december\\\\Californian$(I)SUBG\", [SUBG_time, SUBG_val])"
   ]
  },
  {
   "cell_type": "code",
   "execution_count": 162,
   "metadata": {},
   "outputs": [
    {
     "data": {
      "text/plain": [
       "55354.170295238495"
      ]
     },
     "metadata": {},
     "output_type": "display_data"
    }
   ],
   "source": [
    "BEinstances = []\n",
    "for file in readdir(\"C:\\\\Users\\\\Sofiane\\\\Desktop\\\\ConvexHullPricing\\\\data\\\\ca\"; join=true)\n",
    "    push!(BEinstances, UT.load_data(file))\n",
    "end\n",
    "I = 14\n",
    "instance = BEinstances[I]\n",
    "ObjM = UT.Matching(instance).Obj\n",
    "Optimal = maximum(load_object(\"C:\\\\Users\\\\Sofiane\\\\Desktop\\\\ConvexHullPricing\\\\tests\\\\UltraOptimalRunsCA.jld2\")[I][3])\n",
    "OptUplifts = ObjM - Optimal"
   ]
  },
  {
   "cell_type": "code",
   "execution_count": 163,
   "metadata": {},
   "outputs": [
    {
     "data": {
      "text/plain": [
       "2-element Vector{Vector{Float64}}:\n",
       " [0.0, 8.9334013, 18.2988804, 27.1253649, 35.8988545, 44.693166, 53.7685309, 62.588869100000004, 71.3231194, 80.16762489999999  …  823.2951057999998, 832.0933578999998, 840.9183665999998, 849.6887532999998, 858.4245320999999, 867.2265518999999, 875.9720993999999, 884.7279503, 893.590739, 902.3459818]\n",
       " [71.95534706115723, 289.7390012741089, 186.6930365562439, 122.58528804779053, 81.14662504196167, 55.10898303985596, 47.88062906265259, 40.118040561676025, 34.50438690185547, 34.83901262283325  …  1.1166157722473145, 0.9393587112426758, 1.1206459999084473, 0.7002081871032715, 1.1525874137878418, 0.8379926681518555, 1.240696907043457, 0.7126550674438477, 0.642000675201416, 1.2607321739196777]"
      ]
     },
     "metadata": {},
     "output_type": "display_data"
    }
   ],
   "source": [
    "BLM_time, BLM_val = load_object(\"C:\\\\Users\\\\Sofiane\\\\Desktop\\\\ConvexHullPricing\\\\results\\\\december\\\\Californian$(I)BLM\")\n",
    "BPLM_time, BPLM_val = load_object(\"C:\\\\Users\\\\Sofiane\\\\Desktop\\\\ConvexHullPricing\\\\results\\\\december\\\\Californian$(I)BPLM\")\n",
    "DA_time, DA_val = load_object(\"C:\\\\Users\\\\Sofiane\\\\Desktop\\\\ConvexHullPricing\\\\results\\\\december\\\\Californian$(I)DA\")\n",
    "DOWG_time, DOWG_val = load_object(\"C:\\\\Users\\\\Sofiane\\\\Desktop\\\\ConvexHullPricing\\\\results\\\\december\\\\Californian$(I)DOWG\")\n",
    "ESTPOL_time, ESTPOL_val = load_object(\"C:\\\\Users\\\\Sofiane\\\\Desktop\\\\ConvexHullPricing\\\\results\\\\december\\\\Californian$(I)ESTPOL\")\n",
    "SUBG_time, SUBG_val = load_object(\"C:\\\\Users\\\\Sofiane\\\\Desktop\\\\ConvexHullPricing\\\\results\\\\december\\\\Californian$(I)SUBG\")"
   ]
  },
  {
   "cell_type": "code",
   "execution_count": 164,
   "metadata": {},
   "outputs": [
    {
     "name": "stderr",
     "output_type": "stream",
     "text": [
      "┌ Info: BLM acc: 99.8700091670106\n",
      "└ @ Main c:\\Users\\Sofiane\\Desktop\\ConvexHullPricing\\results\\correction.ipynb:1\n",
      "┌ Info: BLM time: 0.0\n",
      "└ @ Main c:\\Users\\Sofiane\\Desktop\\ConvexHullPricing\\results\\correction.ipynb:2\n",
      "┌ Info: BPLM acc: 99.87802941774065\n",
      "└ @ Main c:\\Users\\Sofiane\\Desktop\\ConvexHullPricing\\results\\correction.ipynb:3\n",
      "┌ Info: BPLM time: 14.57950224\n",
      "└ @ Main c:\\Users\\Sofiane\\Desktop\\ConvexHullPricing\\results\\correction.ipynb:4\n",
      "┌ Info: DA acc: 99.99716980866194\n",
      "└ @ Main c:\\Users\\Sofiane\\Desktop\\ConvexHullPricing\\results\\correction.ipynb:5\n",
      "┌ Info: DA time: 14.01166436166667\n",
      "└ @ Main c:\\Users\\Sofiane\\Desktop\\ConvexHullPricing\\results\\correction.ipynb:6\n",
      "┌ Info: DOWG acc: 99.98843015661194\n",
      "└ @ Main c:\\Users\\Sofiane\\Desktop\\ConvexHullPricing\\results\\correction.ipynb:7\n",
      "┌ Info: DOWG time: 14.863331659999995\n",
      "└ @ Main c:\\Users\\Sofiane\\Desktop\\ConvexHullPricing\\results\\correction.ipynb:8\n",
      "┌ Info: ESTPOL acc: 99.99746911148392\n",
      "└ @ Main c:\\Users\\Sofiane\\Desktop\\ConvexHullPricing\\results\\correction.ipynb:9\n",
      "┌ Info: ESTPOL time: 13.580966063333332\n",
      "└ @ Main c:\\Users\\Sofiane\\Desktop\\ConvexHullPricing\\results\\correction.ipynb:10\n",
      "┌ Info: SUBG acc: 99.99884019456569\n",
      "└ @ Main c:\\Users\\Sofiane\\Desktop\\ConvexHullPricing\\results\\correction.ipynb:11\n",
      "┌ Info: SUBG time: 14.745465838333333\n",
      "└ @ Main c:\\Users\\Sofiane\\Desktop\\ConvexHullPricing\\results\\correction.ipynb:12\n"
     ]
    }
   ],
   "source": [
    "@info \"BLM acc: $(100*(1 - minimum(BLM_val)/OptUplifts))\"\n",
    "@info \"BLM time: $(BLM_time[argmin(BLM_val)]/60)\"\n",
    "@info \"BPLM acc: $(100*(1 - minimum(BPLM_val)/OptUplifts))\"\n",
    "@info \"BPLM time: $(BPLM_time[argmin(BPLM_val)]/60)\"\n",
    "@info \"DA acc: $(100*(1 - minimum(DA_val)/OptUplifts))\"\n",
    "@info \"DA time: $(DA_time[argmin(DA_val)]/60)\"\n",
    "@info \"DOWG acc: $(100*(1 - minimum(DOWG_val)/OptUplifts))\" \n",
    "@info \"DOWG time: $(DOWG_time[argmin(DOWG_val)]/60)\"\n",
    "@info \"ESTPOL acc: $(100*(1 - minimum(ESTPOL_val)/OptUplifts))\"\n",
    "@info \"ESTPOL time: $(ESTPOL_time[argmin(ESTPOL_val)]/60)\"\n",
    "@info \"SUBG acc: $(100*(1 - minimum(SUBG_val)/OptUplifts))\"\n",
    "@info \"SUBG time: $(SUBG_time[argmin(SUBG_val)]/60)\""
   ]
  },
  {
   "cell_type": "code",
   "execution_count": null,
   "metadata": {},
   "outputs": [],
   "source": []
  }
 ],
 "metadata": {
  "kernelspec": {
   "display_name": "Julia 1.9.3",
   "language": "julia",
   "name": "julia-1.9"
  },
  "language_info": {
   "file_extension": ".jl",
   "mimetype": "application/julia",
   "name": "julia",
   "version": "1.9.3"
  }
 },
 "nbformat": 4,
 "nbformat_minor": 2
}
