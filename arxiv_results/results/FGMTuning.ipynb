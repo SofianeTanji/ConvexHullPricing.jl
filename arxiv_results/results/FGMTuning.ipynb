{
 "cells": [
  {
   "cell_type": "code",
   "execution_count": null,
   "metadata": {},
   "outputs": [],
   "source": [
    "@info \"Imports ...\"\n",
    "using Revise\n",
    "using ConvexHullPricing\n",
    "using DataFrames\n",
    "using SparseArrays\n",
    "using Plots\n",
    "using JLD2\n",
    "using LinearAlgebra, LaTeXStrings\n",
    "using ProgressBars\n",
    "const UT = ConvexHullPricing.Utilitaries\n",
    "const OPT = ConvexHullPricing.Optimizer\n",
    "BEinstances = []\n",
    "for file in readdir(\"..//data//belgian\"; join=true)\n",
    "    push!(BEinstances, UT.load_data(file))\n",
    "end\n",
    "CAinstances = []\n",
    "for file in readdir(\"..//data//ca\"; join=true)\n",
    "    push!(CAinstances, UT.load_data(file))\n",
    "end\n",
    "\n",
    "function make_it_monotone(array)\n",
    "    new_array = Float64[]\n",
    "    push!(new_array, array[1])\n",
    "    for elt in array[2:end]\n",
    "        if elt < minimum(new_array)\n",
    "            push!(new_array, elt)\n",
    "        else\n",
    "            push!(new_array, minimum(new_array))\n",
    "        end\n",
    "    end\n",
    "    return new_array\n",
    "end\n",
    "\n",
    "\n",
    "N_MIN = 5\n",
    "τ = N_MIN * 60\n",
    "idx = 1\n",
    "@info \"Instance $idx\"\n",
    "Belgian = BEinstances[idx]\n",
    "X0 = UT.LP_Relaxation(Belgian)\n",
    "FS = maximum(load_object(\"december//UltraOptimalRunsBE.jld2\")[idx][3])\n",
    "# Compilation\n",
    "_, _, Hval, _ = OPT.tShiftedFGM(Belgian, X0, 1., 0.1, 1e-8)\n",
    "_, _, Hval, _ = OPT.tGM(Belgian, X0, 1., 0.5, 1e-8)\n"
   ]
  },
  {
   "cell_type": "code",
   "execution_count": null,
   "metadata": {},
   "outputs": [],
   "source": [
    "\n",
    "function logrange(p::Pair{<:Real, <:Real}, n::Integer)\n",
    "\tlo, hi = promote(p.first, p.second)\n",
    "\tinvert = abs(lo) > abs(hi)\n",
    "\tratio = invert ? lo/hi : hi/lo\n",
    "\tif ratio % 10 == 0\n",
    "\t\texp = exp10\n",
    "\t\tlog = log10\n",
    "\telseif ratio % 2 == 0\n",
    "\t\texp = exp2\n",
    "\t\tlog = log2\n",
    "\telse\n",
    "\t\texp = Base.exp\n",
    "\t\tlog = Base.log\n",
    "\tend\n",
    "\tif ratio > 0\n",
    "\t\tif invert\n",
    "\t\t\tlog_ratio = -log(ratio)\n",
    "\t\t\t(x > log_ratio/2 ? lo*exp(x) : hi*exp(x-log_ratio) for x in range(0, log_ratio, length=n))\n",
    "\t\telse\n",
    "\t\t\tlog_ratio = log(ratio)\n",
    "\t\t\t(x < log_ratio/2 ? lo*exp(x) : hi*exp(x-log_ratio) for x in range(0, log_ratio, length=n))\n",
    "\t\tend\n",
    "\telse\n",
    "\t\tthrow(DomainError(p, \"logrange requires that the first and last elements are both positive, or both negative\"))\n",
    "\tend\n",
    "end\n",
    "\n",
    "RanLambda = [k for k in logrange(1e-4 => 0.008, 20)]\n",
    "GM_vals = Float64[]\n",
    "FGM_vals = Float64[]"
   ]
  },
  {
   "cell_type": "code",
   "execution_count": null,
   "metadata": {},
   "outputs": [],
   "source": [
    "RanLambda"
   ]
  },
  {
   "cell_type": "code",
   "execution_count": null,
   "metadata": {},
   "outputs": [],
   "source": [
    "xax, yax = load_object(\"GM_tuning_on_Autumn_WD\")"
   ]
  },
  {
   "cell_type": "code",
   "execution_count": null,
   "metadata": {},
   "outputs": [],
   "source": [
    "@info xax[argmin(yax)]"
   ]
  },
  {
   "cell_type": "code",
   "execution_count": null,
   "metadata": {},
   "outputs": [],
   "source": [
    "#= for λ in RanLambda\n",
    "\t@info \"λ = $λ ; GD run -->\"\n",
    "\t_, Hit, Hval, _ = OPT.tGM(Belgian, X0, τ, λ, 1e-8)\n",
    "\tHtrue = Float64[]\n",
    "\t@info \"done\"\n",
    "\tfor price in Hit\n",
    "\t\tpush!(Htrue, UT.exact_oracle(Belgian, price)[1])\n",
    "\tend\n",
    "\tpush!(GM_vals, minimum(FS .- Htrue))\n",
    "end\n",
    "save_object(\"GM_tuning_on_Autumn_WD\", [RanLambda, GM_vals])\n",
    "=#\n",
    "for λ in RanLambda\n",
    "\t@info \"λ = $λ ; FGM run -->\"\n",
    "\t_, Hit, Hval, _ = OPT.tShiftedFGM(Belgian, X0, τ, λ, 1e-8)\n",
    "\tHtrue = Float64[]\n",
    "\t@info \"done\"\n",
    "\tfor price in Hit\n",
    "\t\tpush!(Htrue, UT.exact_oracle(Belgian, price)[1])\n",
    "\tend\n",
    "\tpush!(FGM_vals, minimum(FS .- Htrue))\n",
    "end\n",
    "save_object(\"FGM_tuning_on_Autumn_WD\", [RanLambda, FGM_vals])"
   ]
  },
  {
   "cell_type": "code",
   "execution_count": null,
   "metadata": {},
   "outputs": [],
   "source": [
    "save_object(\"FGM_tuning_on_Autumn_WD\", [RanLambda, FGM_vals])"
   ]
  }
 ],
 "metadata": {
  "kernelspec": {
   "display_name": "Julia 1.10.0",
   "language": "julia",
   "name": "julia-1.10"
  },
  "language_info": {
   "file_extension": ".jl",
   "mimetype": "application/julia",
   "name": "julia",
   "version": "1.10.0"
  }
 },
 "nbformat": 4,
 "nbformat_minor": 2
}
