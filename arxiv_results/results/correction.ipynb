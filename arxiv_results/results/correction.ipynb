{
 "cells": [
  {
   "cell_type": "code",
   "execution_count": null,
   "metadata": {},
   "outputs": [],
   "source": [
    "using JLD2\n",
    "using Plots"
   ]
  },
  {
   "cell_type": "code",
   "execution_count": null,
   "metadata": {},
   "outputs": [],
   "source": [
    "I = 20"
   ]
  },
  {
   "cell_type": "code",
   "execution_count": 15,
   "metadata": {},
   "outputs": [
    {
     "data": {
      "text/plain": [
       "2-element Vector{Vector{Float64}}:\n",
       " [0.0, 5.4747388, 11.1457023, 16.8183893, 22.3200946, 27.8739379, 33.4458939, 39.0460907, 44.4574579, 50.031784900000005  …  848.8970441999995, 854.5971316999995, 860.2674432999995, 866.0562381999995, 871.6794894999995, 877.4923917999995, 883.4673454999995, 889.3827659999995, 895.0393087999995, 900.7890744999995]\n",
       " [362.34417247772217, 886.3502674102783, 478.8752727508545, 342.74719429016113, 303.1065149307251, 292.7066059112549, 272.34593200683594, 251.47523021697998, 236.71998500823975, 221.48057079315186  …  87.3540906906128, 87.30859756469727, 87.26940250396729, 86.52734088897705, 85.8542251586914, 85.77892971038818, 85.98823833465576, 85.39234161376953, 85.63587093353271, 84.94935894012451]"
      ]
     },
     "metadata": {},
     "output_type": "display_data"
    }
   ],
   "source": [
    "BLM_time, BLM_val = load_object(\"..//results//december//Californian$(I)BLM\")\n",
    "BPLM_time, BPLM_val = load_object(\"..//results//december//Californian$(I)BPLM\")\n",
    "DA_time, DA_val = load_object(\"..//results//december//Californian$(I)DA\")\n",
    "DOWG_time, DOWG_val = load_object(\"..//results//december//Californian$(I)DOWG\")\n",
    "ESTPOL_time, ESTPOL_val = load_object(\"..//results//december//Californian$(I)ESTPOL\")\n",
    "SUBG_time, SUBG_val = load_object(\"..//results//december//Californian$(I)SUBG\")"
   ]
  },
  {
   "cell_type": "code",
   "execution_count": null,
   "metadata": {},
   "outputs": [],
   "source": [
    "minimum(DOWG_val)"
   ]
  },
  {
   "cell_type": "code",
   "execution_count": null,
   "metadata": {},
   "outputs": [],
   "source": [
    "BLM_val .-= 75\n",
    "BPLM_val .-= 75\n",
    "DA_val .-= 75\n",
    "DOWG_val .-= 75\n",
    "ESTPOL_val .-= 75\n",
    "SUBG_val .-= 75"
   ]
  },
  {
   "cell_type": "code",
   "execution_count": null,
   "metadata": {},
   "outputs": [],
   "source": [
    "plot(title = \"Comparison of methods for computing CH prices\", xlabel = \"Time in seconds\", ylabel = \"Distance to f*\", ylims=(0, 500))\n",
    "plot!(BLM_time[2:end], BLM_val, label = \"BLM\")\n",
    "plot!(BPLM_time[2:end], BPLM_val, label = \"BPLM\")\n",
    "plot!(DA_time[2:end], DA_val, label = \"DA\")\n",
    "plot!(DOWG_time[2:end], DOWG_val, label = \"DOWG\")\n",
    "plot!(ESTPOL_time[2:end], ESTPOL_val, label = \"Est. Polyak\")\n",
    "plot!(SUBG_time[2:end], SUBG_val, label = \"SUBG\")\n",
    "\n",
    "savefig(\"december//Californian$(I)\")\n",
    "save_object(\"december//Californian$(I)BLM\", [BLM_time, BLM_val])\n",
    "save_object(\"december//Californian$(I)BPLM\", [BPLM_time, BPLM_val])\n",
    "save_object(\"december//Californian$(I)DA\", [DA_time, DA_val])\n",
    "save_object(\"december//Californian$(I)DOWG\", [DOWG_time, DOWG_val])\n",
    "save_object(\"december//Californian$(I)ESTPOL\", [ESTPOL_time, ESTPOL_val])\n",
    "save_object(\"december//Californian$(I)SUBG\", [SUBG_time, SUBG_val])"
   ]
  },
  {
   "cell_type": "code",
   "execution_count": null,
   "metadata": {},
   "outputs": [],
   "source": [
    "BEinstances = []\n",
    "for file in readdir(\"../data//ca\"; join=true)\n",
    "    push!(BEinstances, UT.load_data(file))\n",
    "end\n",
    "I = 14\n",
    "instance = BEinstances[I]\n",
    "ObjM = UT.Matching(instance).Obj\n",
    "Optimal = maximum(load_object(\"tests//UltraOptimalRunsCA.jld2\")[I][3])\n",
    "OptUplifts = ObjM - Optimal"
   ]
  },
  {
   "cell_type": "code",
   "execution_count": null,
   "metadata": {},
   "outputs": [],
   "source": [
    "BLM_time, BLM_val = load_object(\"..//results//december//Californian$(I)BLM\")\n",
    "BPLM_time, BPLM_val = load_object(\"..//results//december//Californian$(I)BPLM\")\n",
    "DA_time, DA_val = load_object(\"..//results//december//Californian$(I)DA\")\n",
    "DOWG_time, DOWG_val = load_object(\"..//results//december//Californian$(I)DOWG\")\n",
    "ESTPOL_time, ESTPOL_val = load_object(\"..//results//december//Californian$(I)ESTPOL\")\n",
    "SUBG_time, SUBG_val = load_object(\"..//results//december//Californian$(I)SUBG\")"
   ]
  },
  {
   "cell_type": "code",
   "execution_count": null,
   "metadata": {},
   "outputs": [],
   "source": [
    "@info \"BLM acc: $(100*(1 - minimum(BLM_val)/OptUplifts))\"\n",
    "@info \"BLM time: $(BLM_time[argmin(BLM_val)]/60)\"\n",
    "@info \"BPLM acc: $(100*(1 - minimum(BPLM_val)/OptUplifts))\"\n",
    "@info \"BPLM time: $(BPLM_time[argmin(BPLM_val)]/60)\"\n",
    "@info \"DA acc: $(100*(1 - minimum(DA_val)/OptUplifts))\"\n",
    "@info \"DA time: $(DA_time[argmin(DA_val)]/60)\"\n",
    "@info \"DOWG acc: $(100*(1 - minimum(DOWG_val)/OptUplifts))\" \n",
    "@info \"DOWG time: $(DOWG_time[argmin(DOWG_val)]/60)\"\n",
    "@info \"ESTPOL acc: $(100*(1 - minimum(ESTPOL_val)/OptUplifts))\"\n",
    "@info \"ESTPOL time: $(ESTPOL_time[argmin(ESTPOL_val)]/60)\"\n",
    "@info \"SUBG acc: $(100*(1 - minimum(SUBG_val)/OptUplifts))\"\n",
    "@info \"SUBG time: $(SUBG_time[argmin(SUBG_val)]/60)\""
   ]
  },
  {
   "cell_type": "code",
   "execution_count": null,
   "metadata": {},
   "outputs": [],
   "source": []
  }
 ],
 "metadata": {
  "kernelspec": {
   "display_name": "Julia 1.10.0",
   "language": "julia",
   "name": "julia-1.10"
  },
  "language_info": {
   "file_extension": ".jl",
   "mimetype": "application/julia",
   "name": "julia",
   "version": "1.10.0"
  }
 },
 "nbformat": 4,
 "nbformat_minor": 2
}
