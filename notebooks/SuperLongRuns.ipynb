{
 "cells": [
  {
   "cell_type": "code",
   "execution_count": 2,
   "metadata": {},
   "outputs": [],
   "source": [
    "using Revise\n",
    "using ConvexHullPricing, Gurobi, Plots, JLD2, ProgressBars\n",
    "\n",
    "list_of_instances = []\n",
    "for file in readdir(\"C:\\\\Users\\\\Sofiane\\\\Desktop\\\\ConvexHullPricing\\\\ca_data\"; join=true)\n",
    "    push!(list_of_instances, ConvexHullPricing.Utilitaries.load_data(file))\n",
    "end"
   ]
  },
  {
   "cell_type": "code",
   "execution_count": 3,
   "metadata": {},
   "outputs": [
    {
     "name": "stderr",
     "output_type": "stream",
     "text": [
      "\r0.0%┣                                              ┫ 0/28 [00:01<00:-35, -1s/it]"
     ]
    },
    {
     "name": "stdout",
     "output_type": "stream",
     "text": [
      "0.0005076121194920478\n"
     ]
    },
    {
     "name": "stderr",
     "output_type": "stream",
     "text": [
      "\n",
      "\u001b[1A\r3.6%┣█▌                                         ┫ 1/28 [00:39<Inf:Inf, InfGs/it]"
     ]
    }
   ],
   "source": [
    "for (i, instance) in tqdm(enumerate(list_of_instances))\n",
    "    LP_Relax = ConvexHullPricing.Utilitaries.LP_Relaxation(instance)\n",
    "    xstar, iter, fiter, relgap = ConvexHullPricing.Optimizer.GetOptimal(instance, LP_Relax)\n",
    "    println(relgap)\n",
    "end"
   ]
  },
  {
   "cell_type": "code",
   "execution_count": null,
   "metadata": {},
   "outputs": [],
   "source": [
    "for (i, instance) in tqdm(enumerate(list_of_instances))\n",
    "    x_star, xks, fks, gap, iter = ConvexHullPricing.Optimizer.LongBundleLevelMethod(instance, zeros(length(instance.Load)), 1500, .98)\n",
    "    save_object(\"x_star_belgian_$(i)\", x_star)\n",
    "    save_object(\"xks_belgian_$(i)\", xks)\n",
    "    save_object(\"fks_belgian_$(i)\", fks)\n",
    "    save_object(\"gap_belgian_$(i)\", gap)\n",
    "    save_object(\"iter_belgian_$(i)\", iter)\n",
    "end"
   ]
  },
  {
   "cell_type": "code",
   "execution_count": null,
   "metadata": {},
   "outputs": [],
   "source": [
    "for i=1:8\n",
    "    gap = load_object(\"gap_belgian_$i\")\n",
    "    println(gap)\n",
    "end"
   ]
  },
  {
   "cell_type": "code",
   "execution_count": null,
   "metadata": {},
   "outputs": [],
   "source": []
  }
 ],
 "metadata": {
  "kernelspec": {
   "display_name": "Julia 1.9.3",
   "language": "julia",
   "name": "julia-1.9"
  },
  "language_info": {
   "file_extension": ".jl",
   "mimetype": "application/julia",
   "name": "julia",
   "version": "1.9.3"
  }
 },
 "nbformat": 4,
 "nbformat_minor": 2
}
