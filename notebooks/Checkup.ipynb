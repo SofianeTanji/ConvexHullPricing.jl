{
 "cells": [
  {
   "cell_type": "code",
   "execution_count": null,
   "metadata": {},
   "outputs": [],
   "source": [
    "using Revise\n",
    "using ConvexHullPricing\n",
    "using DataFrames\n",
    "using Plots\n",
    "using JLD2\n",
    "using ProgressBars, JuMP, Gurobi\n",
    "const UT = ConvexHullPricing.Utilitaries\n",
    "const OPT = ConvexHullPricing.Optimizer"
   ]
  },
  {
   "cell_type": "code",
   "execution_count": null,
   "metadata": {},
   "outputs": [],
   "source": [
    "ThermalGen = ConvexHullPricing.Utilitaries.ThermalGen(\n",
    "    MinRunCapacity = [6],\n",
    "    MaxRunCapacity = [16],\n",
    "    RampUp = [5],\n",
    "    RampDown = [5],\n",
    "    StartUp = [6],\n",
    "    ShutDown = [6],\n",
    "    UpTime = [1],\n",
    "    DownTime = [1],\n",
    "    NoLoadConsumption = [10],\n",
    "    MarginalCost = [53],\n",
    "    FixedCost = [30],\n",
    ")\n",
    "instance = ConvexHullPricing.Utilitaries.Instance(\n",
    "    LostLoad = 3000,\n",
    "    Load = [6 11 16 11],\n",
    "    ThermalGen = ThermalGen\n",
    ")\n",
    "LP_Relax = UT.LP_Relaxation(instance)\n",
    "X0 = UT.LP_Relaxation(instance)"
   ]
  },
  {
   "cell_type": "code",
   "execution_count": null,
   "metadata": {},
   "outputs": [],
   "source": [
    "XBLM, ITBLM, FBLM = OPT.BundleLevelMethod(instance, X0, 10, 0.7)"
   ]
  },
  {
   "cell_type": "code",
   "execution_count": null,
   "metadata": {},
   "outputs": [],
   "source": [
    "XCG, ITCG, FCG, TCG = OPT.tColumnGeneration(instance, X0, .1, 0.)"
   ]
  },
  {
   "cell_type": "code",
   "execution_count": null,
   "metadata": {},
   "outputs": [],
   "source": [
    "XCRG, ITCRG, FCRG, TCRG = OPT.tCRG(instance, .1, 1e-6, 0)"
   ]
  },
  {
   "cell_type": "code",
   "execution_count": null,
   "metadata": {},
   "outputs": [],
   "source": [
    "plot(FBLM, label = \"BLM\")\n",
    "plot!(FCG, label = \"CG\")\n",
    "plot!(FCRG, label = \"CRG\")"
   ]
  }
 ],
 "metadata": {
  "kernelspec": {
   "display_name": "Julia 1.10.0",
   "language": "julia",
   "name": "julia-1.10"
  },
  "language_info": {
   "file_extension": ".jl",
   "mimetype": "application/julia",
   "name": "julia",
   "version": "1.10.0"
  }
 },
 "nbformat": 4,
 "nbformat_minor": 2
}
