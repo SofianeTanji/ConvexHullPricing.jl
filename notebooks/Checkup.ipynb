{
 "cells": [
  {
   "cell_type": "code",
   "execution_count": 1,
   "metadata": {},
   "outputs": [
    {
     "name": "stdout",
     "output_type": "stream",
     "text": [
      "Set parameter Username\n",
      "Academic license - for non-commercial use only - expires 2025-01-02\n",
      "Set parameter Username\n",
      "Academic license - for non-commercial use only - expires 2025-01-02\n"
     ]
    },
    {
     "data": {
      "text/plain": [
       "mon (generic function with 1 method)"
      ]
     },
     "metadata": {},
     "output_type": "display_data"
    }
   ],
   "source": [
    "using Revise\n",
    "using ConvexHullPricing\n",
    "using DataFrames\n",
    "using Plots\n",
    "using JLD2\n",
    "using ProgressBars, JuMP, Gurobi\n",
    "const UT = ConvexHullPricing.Utilitaries\n",
    "const OPT = ConvexHullPricing.Optimizer\n",
    "function mon(array)\n",
    "    result = Float64[]\n",
    "    last = array[1]\n",
    "    for elt in array\n",
    "      new_last = minimum([elt, last])\n",
    "      push!(result, new_last)\n",
    "      last = new_last\n",
    "    end\n",
    "    return result\n",
    "end"
   ]
  },
  {
   "cell_type": "code",
   "execution_count": 3,
   "metadata": {},
   "outputs": [
    {
     "data": {
      "text/plain": [
       "ConvexHullPricing.Utilitaries.Instance(3000.0, [10139.0, 9933.0, 9830.0, 9549.0, 9496.0, 9442.0, 9345.0, 9251.0, 9098.0, 9082.0  …  10388.0, 10330.0, 10306.0, 10469.0, 10511.0, 10573.0, 10658.0, 10582.0, 10337.0, 10126.0], ConvexHullPricing.Utilitaries.ThermalGen(Any[525.5, 192.5, 14.5, 504, 253, 211.8, 48.7, 48.7, 48.7, 48.7  …  522, 503, 216.3, 216.3, 43, 20.6, 20.6, 16.8, 15.4, 15.4], Any[1051, 350, 14.5, 1008, 460, 385, 203, 203, 203, 203  …  1044, 1006, 432.5, 432.5, 43, 258, 258, 70, 64, 64], Any[35.03333, 10.5, 0, 33.6, 13.8, 11.54667, 10.15, 10.15, 10.15, 10.15  …  34.8, 33.53333, 14.41333, 14.41333, 0, 2.58, 2.58, 3.5, 3.2, 3.2], Any[35.03333, 10.5, 0, 33.6, 13.8, 11.54667, 10.15, 10.15, 10.15, 10.15  …  34.8, 33.53333, 14.41333, 14.41333, 0, 2.58, 2.58, 3.5, 3.2, 3.2], Any[525.5, 192.5, 14.5, 504, 253, 211.8, 48.7, 48.7, 48.7, 48.7  …  522, 503, 216.3, 216.3, 43, 20.6, 20.6, 16.8, 15.4, 15.4], Any[525.5, 192.5, 14.5, 504, 253, 211.8, 48.7, 48.7, 48.7, 48.7  …  522, 503, 216.3, 216.3, 43, 20.6, 20.6, 16.8, 15.4, 15.4], Any[168, 8, 8, 168, 8, 8, 2, 2, 2, 2  …  168, 168, 168, 168, 8, 12, 12, 2, 2, 2], Any[168, 4, 8, 168, 4, 4, 2, 2, 2, 2  …  168, 168, 168, 168, 8, 8, 8, 2, 2, 2], Any[0, 255.566, 9.396, 0, 0, 281.1226, 0, 0, 0, 0  …  1708.3636, 0, 0, 0, 27.864, 339.8049, 243.5268, 0, 70.7657, 70.7657], Any[7.2276, 48.0159, 49.582, 7.2445, 48.0159, 45.6913, 44.9865, 50.0534, 47.4682, 47.6574  …  7.658, 7.7644, 7.9161, 7.415, 42.2203, 21.7826, 62.5744, 87.585, 67.1551, 73.2508], Any[22624.2, 0, 0, 21844, 0, 0, 0, 0, 0, 0  …  0, 22775.9, 9372.6, 9372.6, 0, 0, 0, 0, 1103.313312, 1103.313312]))"
      ]
     },
     "metadata": {},
     "output_type": "display_data"
    }
   ],
   "source": [
    "BEinstances = []\n",
    "for file in readdir(\"..//data//belgian\"; join=true)\n",
    "  push!(BEinstances, UT.load_data(file))\n",
    "end\n",
    "instance = BEinstances[8]"
   ]
  },
  {
   "cell_type": "code",
   "execution_count": null,
   "metadata": {},
   "outputs": [],
   "source": [
    "ThermalGen = ConvexHullPricing.Utilitaries.ThermalGen(\n",
    "    MinRunCapacity = [6],\n",
    "    MaxRunCapacity = [16],\n",
    "    RampUp = [5],\n",
    "    RampDown = [5],\n",
    "    StartUp = [6],\n",
    "    ShutDown = [6],\n",
    "    UpTime = [1],\n",
    "    DownTime = [1],\n",
    "    NoLoadConsumption = [10],\n",
    "    MarginalCost = [53],\n",
    "    FixedCost = [30],\n",
    ")\n",
    "instance = ConvexHullPricing.Utilitaries.Instance(\n",
    "    LostLoad = 3000,\n",
    "    Load = [6 11 16 11],\n",
    "    ThermalGen = ThermalGen\n",
    ")\n",
    "X0 = UT.LP_Relaxation(instance)"
   ]
  },
  {
   "cell_type": "code",
   "execution_count": 4,
   "metadata": {},
   "outputs": [],
   "source": [
    "XCRG, ITCRG, CRG, TCRG = OPT.tCRG(instance, 1., 1e-5, 1)"
   ]
  },
  {
   "cell_type": "code",
   "execution_count": null,
   "metadata": {},
   "outputs": [],
   "source": [
    "plot(TCG[2:end], (FS .- FCG), label = \"CG\")\n",
    "plot!(TCRG[2:end], (FS .- FCRG), label = \"CRG\")"
   ]
  },
  {
   "cell_type": "code",
   "execution_count": null,
   "metadata": {},
   "outputs": [],
   "source": [
    "FCG = Float64[]\n",
    "for price in ITCG\n",
    "    push!(FCG, UT.exact_oracle(instance, price)[1])\n",
    "end"
   ]
  }
 ],
 "metadata": {
  "kernelspec": {
   "display_name": "Julia 1.10.0",
   "language": "julia",
   "name": "julia-1.10"
  },
  "language_info": {
   "file_extension": ".jl",
   "mimetype": "application/julia",
   "name": "julia",
   "version": "1.10.0"
  }
 },
 "nbformat": 4,
 "nbformat_minor": 2
}
