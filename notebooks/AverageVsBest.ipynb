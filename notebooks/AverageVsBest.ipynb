{
 "cells": [
  {
   "cell_type": "code",
   "execution_count": 1,
   "metadata": {},
   "outputs": [
    {
     "name": "stdout",
     "output_type": "stream",
     "text": [
      "Set parameter Username\n",
      "Academic license - for non-commercial use only - expires 2025-03-01\n",
      "Set parameter Username\n",
      "Academic license - for non-commercial use only - expires 2025-03-01\n"
     ]
    },
    {
     "data": {
      "text/plain": [
       "get_last_elements (generic function with 1 method)"
      ]
     },
     "metadata": {},
     "output_type": "display_data"
    }
   ],
   "source": [
    "using Revise\n",
    "using ConvexHullPricing\n",
    "using LinearAlgebra\n",
    "using Statistics\n",
    "using DataFrames\n",
    "using Plots, LaTeXStrings\n",
    "using JLD2\n",
    "using Plots.PlotMeasures\n",
    "using ProgressBars, JuMP, Gurobi\n",
    "\n",
    "function mon(array)\n",
    "  result = Float64[]\n",
    "  last = array[1]\n",
    "  for elt in array\n",
    "    new_last = minimum([elt, last])\n",
    "    push!(result, new_last)\n",
    "    last = new_last\n",
    "  end\n",
    "  return result\n",
    "end\n",
    "\n",
    "const UT = ConvexHullPricing.Utilitaries\n",
    "const OPT = ConvexHullPricing.Optimizer\n",
    "\n",
    "instances = []\n",
    "for file in readdir(\"..//data//ca\"; join=true)\n",
    "  push!(instances, UT.load_data(file))\n",
    "end\n",
    "\n",
    "function get_last_elements(array)\n",
    "  result = []\n",
    "  for i in 1:5:100\n",
    "    percentage = i / 100\n",
    "    last_index = length(array) - Int(ceil(length(array) * percentage))\n",
    "    last_elements = mean(array[last_index:end])\n",
    "    push!(result, last_elements)\n",
    "  end\n",
    "  return (result)\n",
    "end"
   ]
  },
  {
   "cell_type": "code",
   "execution_count": 2,
   "metadata": {},
   "outputs": [
    {
     "data": {
      "text/plain": [
       "getlast (generic function with 1 method)"
      ]
     },
     "metadata": {},
     "output_type": "display_data"
    }
   ],
   "source": [
    "function getlast(array)\n",
    "  percentage = 90 / 100\n",
    "  last_index = Int(ceil(length(array) * percentage))\n",
    "  last_elements = mean(array[last_index:end])\n",
    "  return last_elements\n",
    "end"
   ]
  },
  {
   "cell_type": "code",
   "execution_count": 3,
   "metadata": {},
   "outputs": [
    {
     "data": {
      "text/plain": [
       "6-element Vector{String}:\n",
       " \"Bundle Level Method\"\n",
       " \"Bundle Proximal Level Method\"\n",
       " \"D-Adaptation\"\n",
       " \"DowG\"\n",
       " \"Estimated Polyak stepsizes, subgradient method\"\n",
       " \"Subgradient method\""
      ]
     },
     "metadata": {},
     "output_type": "display_data"
    }
   ],
   "source": [
    "methods = [\"BundleLevelMethodCA\", \"BundleProximalLevelMethod-L-CA\", \"D-AdaptationCA\", \"DowGCA\", \"SUBG-EP-CA\", \"SubGCA\"]\n",
    "methods_name = [\"Bundle Level Method\", \"Bundle Proximal Level Method\", \"D-Adaptation\", \"DowG\", \"Estimated Polyak stepsizes, subgradient method\", \"Subgradient method\"]"
   ]
  },
  {
   "cell_type": "code",
   "execution_count": 4,
   "metadata": {},
   "outputs": [],
   "source": [
    "for (j, meth) in enumerate(methods)\n",
    "  all_values = []\n",
    "  all_distances = []\n",
    "  for idx=1:20\n",
    "    if idx ∉ [9, 10, 11, 12]\n",
    "      instance = instances[idx]\n",
    "      FS = maximum(load_object(\"..//results//optimal_values//NewRefinedOptRunCA$(idx).jld2\")[3])\n",
    "      XBLM, ITBLM, BLM, TBLM = load_object(\"..//results//15min_runs//$(meth)$(idx).jld2\")\n",
    "      average_iterates = get_last_elements(ITBLM)\n",
    "      values = []\n",
    "      for avg in average_iterates\n",
    "        push!(values, FS - UT.exact_oracle(instance, avg)[1])\n",
    "      end\n",
    "      push!(all_values, values)\n",
    "      plot(\n",
    "        title = \"Belgian instance $(idx)\",\n",
    "        xlabel = \"Percentage of last iterations considered \" * \" (%)\",\n",
    "        ylabel = L\"\\mathcal{L}_* - \\mathcal{L}\",\n",
    "        xlims=(0,100),\n",
    "        xticks=1:5:100,\n",
    "        titlefontsize=10,\n",
    "        legend=:topright,\n",
    "        labelfontsize=10,\n",
    "        size=(1000,500),\n",
    "        bottom_margin = 15px,\n",
    "        left_margin = 30px,\n",
    "        fmt=:pdf\n",
    "      )\n",
    "      plot!(1:5:100, values, label=\"$(methods_name[j])\")\n",
    "      hline!([minimum(mon(FS .- (BLM)))], label = \"Best iterate\")\n",
    "      push!(all_distances, minimum(mon(FS .- (BLM))))\n",
    "      savefig(\"avg_to_10/$(meth)$(idx).pdf\")\n",
    "    end\n",
    "  end\n",
    "  plot(\n",
    "    title = \"Belgian dataset\",\n",
    "    xlabel = \"Percentage of last iterations considered \" * \" (%)\",\n",
    "    ylabel = L\"\\mathcal{L}_* - \\mathcal{L}\",\n",
    "    xlims=(0,100),\n",
    "    xticks=1:5:100,\n",
    "    titlefontsize=10,\n",
    "    legend=:topright,\n",
    "    labelfontsize=10,\n",
    "    size=(1000,500),\n",
    "    bottom_margin = 15px,\n",
    "    left_margin = 30px,\n",
    "    fmt=:pdf\n",
    "  )\n",
    "  plot!(1:5:100, mean(all_values), label=\"$(methods_name[j])\")\n",
    "  hline!([mean(all_distances)], label = \"Best iterate\")\n",
    "  savefig(\"avg_to_10/$(meth).pdf\")\n",
    "end"
   ]
  },
  {
   "cell_type": "code",
   "execution_count": 56,
   "metadata": {},
   "outputs": [],
   "source": [
    "all_values = []\n",
    "all_distances = []\n",
    "for idx=1:8\n",
    "  instance = instances[idx]\n",
    "  FS = maximum(load_object(\"..//results//optimal_values//NewRefinedOptRunBE$(idx).jld2\")[3])\n",
    "  XBLM, ITBLM, BLM, TBLM = load_object(\"..//results//15min_runs//FGMBE$(idx).jld2\")\n",
    "  average_iterates = get_last_elements(ITBLM)\n",
    "  values = []\n",
    "  for avg in average_iterates\n",
    "    push!(values, FS - UT.exact_oracle(instance, avg)[1])\n",
    "  end\n",
    "  push!(all_values, values)\n",
    "  plot(\n",
    "    title = \"Belgian instance $(idx)\",\n",
    "    xlabel = \"Percentage of last iterations considered \" * \" (%)\",\n",
    "    ylabel = L\"\\mathcal{L}_* - \\mathcal{L}\",\n",
    "    xlims=(0,10),\n",
    "    xticks=1:1:10,\n",
    "    titlefontsize=10,\n",
    "    legend=:topright,\n",
    "    labelfontsize=10,\n",
    "    size=(1000,500),\n",
    "    bottom_margin = 15px,\n",
    "    left_margin = 30px,\n",
    "    fmt=:pdf\n",
    ")\n",
    "  plot!(1:1:10, values, label=\"Fast Gradient method\")\n",
    "  hline!([minimum(mon(FS .- (BLM)))], label = \"Best iterate\")\n",
    "  push!(all_distances, minimum(mon(FS .- (BLM))))\n",
    "  savefig(\"avg_to_10/FGM-BE$(idx).pdf\")\n",
    "end"
   ]
  },
  {
   "cell_type": "code",
   "execution_count": 57,
   "metadata": {},
   "outputs": [
    {
     "data": {
      "text/plain": [
       "\"c:\\\\Users\\\\Sofiane\\\\Documents\\\\ConvexHullPricing.jl\\\\notebooks\\\\avg_to_10\\\\FGM-BE.pdf\""
      ]
     },
     "metadata": {},
     "output_type": "display_data"
    }
   ],
   "source": [
    "plot(\n",
    "    title = \"Belgian dataset\",\n",
    "    xlabel = \"Percentage of last iterations considered \" * \" (%)\",\n",
    "    ylabel = L\"\\mathcal{L}_* - \\mathcal{L}\",\n",
    "    xlims=(0,10),\n",
    "    xticks=1:1:10,\n",
    "    titlefontsize=10,\n",
    "    legend=:topright,\n",
    "    labelfontsize=10,\n",
    "    size=(1000,500),\n",
    "    bottom_margin = 15px,\n",
    "    left_margin = 30px,\n",
    "    fmt=:pdf\n",
    ")\n",
    "plot!(1:1:10, mean(all_values), label=\"Fast Gradient method\")\n",
    "hline!([mean(all_distances)], label = \"Best iterate\")\n",
    "savefig(\"avg_to_10/FGM-BE.pdf\")"
   ]
  },
  {
   "cell_type": "code",
   "execution_count": 59,
   "metadata": {},
   "outputs": [
    {
     "data": {
      "text/plain": [
       "10"
      ]
     },
     "metadata": {},
     "output_type": "display_data"
    }
   ],
   "source": [
    "argmin(mean(all_values))"
   ]
  }
 ],
 "metadata": {
  "kernelspec": {
   "display_name": "Julia 1.10.2",
   "language": "julia",
   "name": "julia-1.10"
  },
  "language_info": {
   "file_extension": ".jl",
   "mimetype": "application/julia",
   "name": "julia",
   "version": "1.10.2"
  }
 },
 "nbformat": 4,
 "nbformat_minor": 2
}
