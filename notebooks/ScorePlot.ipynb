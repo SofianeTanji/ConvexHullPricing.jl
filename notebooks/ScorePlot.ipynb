{
 "cells": [
  {
   "cell_type": "code",
   "execution_count": 1,
   "metadata": {},
   "outputs": [],
   "source": [
    "using DataFrames\n",
    "using Plots, LaTeXStrings\n",
    "using JLD2\n",
    "using Statistics, JuMP\n",
    "using Plots.PlotMeasures\n",
    "using StatsBase"
   ]
  },
  {
   "cell_type": "code",
   "execution_count": 2,
   "metadata": {},
   "outputs": [
    {
     "data": {
      "text/plain": [
       "refine (generic function with 2 methods)"
      ]
     },
     "metadata": {},
     "output_type": "display_data"
    }
   ],
   "source": [
    "function mon(array)\n",
    "    result = Float64[]\n",
    "    last = array[1]\n",
    "    for elt in array\n",
    "      new_last = minimum([elt, last])\n",
    "      push!(result, new_last)\n",
    "      last = new_last\n",
    "    end\n",
    "    return result\n",
    "end\n",
    "RANGE = 0:1:900\n",
    "function refine(valuevec, timevec, trange = RANGE)\n",
    "    new_values = Float64[]\n",
    "    for t in trange\n",
    "        push!(new_values, valuevec[searchsortedfirst(timevec[2:end], t)])\n",
    "    end\n",
    "    return new_values\n",
    "end"
   ]
  },
  {
   "cell_type": "code",
   "execution_count": 3,
   "metadata": {},
   "outputs": [
    {
     "data": {
      "text/plain": [
       "load_californian (generic function with 1 method)"
      ]
     },
     "metadata": {},
     "output_type": "display_data"
    }
   ],
   "source": [
    "function load_belgian(eps)\n",
    "    matrixBLM = []\n",
    "    matrixBPLM = []\n",
    "    matrixSUBG = []\n",
    "    matrixSSUBG = []\n",
    "    matrixSGEP = []\n",
    "    matrixDA = []\n",
    "    matrixDWG = []\n",
    "    matrixFGM = []\n",
    "    matrixSUBGL = []\n",
    "    matrixCG = []\n",
    "    matrixFS = []\n",
    "    for idx=1:8\n",
    "        FS = maximum(load_object(\"..//results//optimal_values//NewRefinedOptRunBE$(idx).jld2\")[3])\n",
    "        XBLM, ITBLM, BLM, TBLM = load_object(\"..//results//15min_runs//BundleLevelMethodBE$(idx).jld2\")\n",
    "        XBPLM, ITBPLM, BPLM, TBPLM = load_object(\"..//results//15min_runs//BundleProximalLevelMethod-L-BE$(idx).jld2\")\n",
    "        XSUBG, ITSUBG, SUBG, TSUBG = load_object(\"..//results//15min_runs//SubGBE$(idx).jld2\")\n",
    "        XSSUBG, ITSSUBG, SSUBG, TSSUBG = load_object(\"..//results//15min_runs//StochasticSubGBE$(idx).jld2\")\n",
    "        XSGEP, ITSGEP, SGEP, TSGEP = load_object(\"..//results//15min_runs//SubG-EP-BE$(idx).jld2\")\n",
    "        XDA, ITDA, DA, TDA = load_object(\"..//results//15min_runs//D-AdaptationBE$(idx).jld2\")\n",
    "        XDWG, ITDWG, DWG, TDWG = load_object(\"..//results//15min_runs//DowGBE$(idx).jld2\")\n",
    "        XFGM, ITFGM, FGM, TFGM = load_object(\"..//results//15min_runs//FGMBE$(idx).jld2\")\n",
    "        XSUBGL, ITSUBGL, SUBGL, TSUBGL = load_object(\"..//results//15min_runs//LSUBGBE$(idx).jld2\")\n",
    "        XCG, ITCG, CG, TCG = load_object(\"..//results//15min_runs//ColumnGeneration-BE$(idx).jld2\")\n",
    "        FS = maximum([FS, maximum(CG)])\n",
    "        CG = mon(refine(FS .- CG, TCG)) ./ FS\n",
    "        BLM = mon(refine(FS .- BLM, TBLM)) ./ FS\n",
    "        BPLM = mon(refine(FS .- BPLM, TBPLM)) ./ FS\n",
    "        SUBG = mon(refine(FS .- SUBG, TSUBG)) ./ FS\n",
    "        SSUBG = mon(refine(FS .- SSUBG, TSSUBG)) ./ FS\n",
    "        SGEP = mon(refine(FS .- SGEP, TSGEP)) ./ FS\n",
    "        DA = mon(refine(FS .- DA, TDA)) ./ FS\n",
    "        DWG = mon(refine(FS .- DWG, TDWG)) ./ FS\n",
    "        FGM = mon(refine(FS .- FGM, TFGM)) ./ FS\n",
    "        SUBGL = mon(refine(FS .- SUBGL, TSUBGL)) ./ FS\n",
    "        push!(matrixFS, FS * (eps))\n",
    "        push!(matrixBLM, BLM)\n",
    "        push!(matrixCG, CG)\n",
    "        push!(matrixBPLM, BPLM)\n",
    "        push!(matrixSUBG, SUBG)\n",
    "        push!(matrixSSUBG, SSUBG)\n",
    "        push!(matrixSGEP, SGEP)\n",
    "        push!(matrixDA, DA)\n",
    "        push!(matrixDWG, DWG)\n",
    "        push!(matrixFGM, FGM)\n",
    "        push!(matrixSUBGL, SUBGL)\n",
    "    end\n",
    "    return mean(matrixBLM), mean(matrixBPLM), mean(matrixSUBG), mean(matrixSGEP), mean(matrixDA), mean(matrixDWG), mean(matrixFGM), mean(matrixSUBGL), mean(matrixCG), mean(matrixSSUBG), mean(matrixFS)\n",
    "end\n",
    "function load_californian(eps)\n",
    "    matrixBLM = []\n",
    "    matrixBPLM = []\n",
    "    matrixSUBG = []\n",
    "    matrixSGEP = []\n",
    "    matrixDA = []\n",
    "    matrixDWG = []\n",
    "    matrixFGM = []\n",
    "    matrixSUBGL = []\n",
    "    matrixCG = []\n",
    "    matrixFS = []\n",
    "    for idx=1:20\n",
    "        if idx ∉ [9 10 11 12]\n",
    "        FS = maximum(load_object(\"..//results//optimal_values//NewRefinedOptRunCA$(idx).jld2\")[3])\n",
    "        XBLM, ITBLM, BLM, TBLM = load_object(\"..//results//15min_runs//BundleLevelMethodCA$(idx).jld2\")\n",
    "        XBPLM, ITBPLM, BPLM, TBPLM = load_object(\"..//results//15min_runs//BundleProximalLevelMethod-L-CA$(idx).jld2\")\n",
    "        XSUBG, ITSUBG, SUBG, TSUBG = load_object(\"..//results//15min_runs//SubGCA$(idx).jld2\")\n",
    "        XSGEP, ITSGEP, SGEP, TSGEP = load_object(\"..//results//15min_runs//SubG-EP-CA$(idx).jld2\")\n",
    "        XDA, ITDA, DA, TDA = load_object(\"..//results//15min_runs//D-AdaptationCA$(idx).jld2\")\n",
    "        XDWG, ITDWG, DWG, TDWG = load_object(\"..//results//15min_runs//DowGCA$(idx).jld2\")\n",
    "        XFGM, ITFGM, FGM, TFGM = load_object(\"..//results//15min_runs//FGMCA$(idx).jld2\")\n",
    "        XSUBGL, ITSUBGL, SUBGL, TSUBGL = load_object(\"..//results//15min_runs//LSUBGCA$(idx).jld2\")\n",
    "        XCG, ITCG, CG, TCG = load_object(\"..//results//15min_runs//ColumnGeneration-CA$(idx).jld2\")\n",
    "        FS = maximum([FS, maximum(CG)])\n",
    "        CG = mon(refine(FS .- CG, TCG)) ./ FS\n",
    "        BLM = mon(refine(FS .- BLM, TBLM)) ./ FS\n",
    "        BPLM = mon(refine(FS .- BPLM, TBPLM)) ./ FS\n",
    "        SUBG = mon(refine(FS .- SUBG, TSUBG)) ./ FS\n",
    "        SGEP = mon(refine(FS .- SGEP, TSGEP)) ./ FS\n",
    "        DA = mon(refine(FS .- DA, TDA)) ./ FS\n",
    "        DWG = mon(refine(FS .- DWG, TDWG)) ./ FS\n",
    "        FGM = mon(refine(FS .- FGM, TFGM)) ./ FS\n",
    "        SUBGL = mon(refine(FS .- SUBGL, TSUBGL)) ./ FS\n",
    "        push!(matrixFS, FS * (eps))\n",
    "        push!(matrixBLM, BLM)\n",
    "        push!(matrixCG, CG)\n",
    "        push!(matrixBPLM, BPLM)\n",
    "        push!(matrixSUBG, SUBG)\n",
    "        push!(matrixSGEP, SGEP)\n",
    "        push!(matrixDA, DA)\n",
    "        push!(matrixDWG, DWG)\n",
    "        push!(matrixFGM, FGM)\n",
    "        push!(matrixSUBGL, SUBGL)\n",
    "        end\n",
    "    end\n",
    "    return mean(matrixBLM), mean(matrixBPLM), mean(matrixSUBG), mean(matrixSGEP), mean(matrixDA), mean(matrixDWG), mean(matrixFGM), mean(matrixSUBGL), mean(matrixCG), mean(matrixFS)\n",
    "end"
   ]
  },
  {
   "cell_type": "code",
   "execution_count": 4,
   "metadata": {},
   "outputs": [
    {
     "data": {
      "text/plain": [
       "([1.7755972832304e-5, 1.7755972832304e-5, 1.7755972832304e-5, 1.7755972832304e-5, 1.7755972832304e-5, 1.7755972832304e-5, 1.7755972832304e-5, 1.7755972832304e-5, 1.7755972832304e-5, 1.7755972832304e-5  …  2.694774166951963e-6, 2.694774166951963e-6, 2.694774166951963e-6, 2.694774166951963e-6, 2.694774166951963e-6, 2.694774166951963e-6, 2.694774166951963e-6, 2.694774166951963e-6, 2.694774166951963e-6, 2.694774166951963e-6], [1.775597283231304e-5, 1.775597283231304e-5, 1.775597283231304e-5, 1.775597283231304e-5, 1.775597283231304e-5, 1.775597283231304e-5, 1.775597283231304e-5, 1.775597283231304e-5, 1.775597283231304e-5, 1.775597283231304e-5  …  1.3281095554729125e-6, 1.321429990144746e-6, 1.3189624166268472e-6, 1.3189624166268472e-6, 1.315467718304576e-6, 1.3145328379243631e-6, 1.3145328379243631e-6, 1.3145328379243631e-6, 1.3081699283615236e-6, 1.3069380302821228e-6], [1.775597283216844e-5, 1.775597283216844e-5, 1.775597283216844e-5, 1.775597283216844e-5, 1.775597283216844e-5, 1.775597283216844e-5, 1.775597283216844e-5, 1.775597283216844e-5, 1.775597283216844e-5, 1.775597283216844e-5  …  2.7765857879833947e-6, 2.7746206448801545e-6, 2.7729991871328305e-6, 2.7713777293849577e-6, 2.7713777293849577e-6, 2.7713777293849577e-6, 2.7702392445288863e-6, 2.7702392445288863e-6, 2.7693187818937343e-6, 2.7693187818937343e-6], [1.775597283227689e-5, 1.775597283227689e-5, 1.775597283227689e-5, 1.775597283227689e-5, 1.775597283227689e-5, 1.775597283227689e-5, 1.775597283227689e-5, 1.775597283227689e-5, 1.775597283227689e-5, 1.775597283227689e-5  …  2.073465021721816e-6, 2.073465021721816e-6, 2.072709990017009e-6, 2.072472025629129e-6, 2.072472025629129e-6, 2.071943316006748e-6, 2.071943316006748e-6, 2.071943316006748e-6, 2.0711313765671926e-6, 2.069372541126647e-6], [1.775597283229496e-5, 1.775597283229496e-5, 1.775597283229496e-5, 1.775597283229496e-5, 1.775597283229496e-5, 1.775597283229496e-5, 1.775597283229496e-5, 1.775597283229496e-5, 1.775597283229496e-5, 1.775597283229496e-5  …  4.622136957215603e-6, 4.622136957215603e-6, 4.622136957215603e-6, 4.622136957215603e-6, 4.622136957215603e-6, 4.622136957215603e-6, 4.622136957215603e-6, 4.622136957215603e-6, 4.622136957215603e-6, 4.622136957215603e-6], [1.775597283224074e-5, 1.775597283224074e-5, 1.775597283224074e-5, 1.775597283224074e-5, 1.775597283224074e-5, 1.775597283224074e-5, 1.775597283224074e-5, 1.775597283224074e-5, 1.7686804860755707e-5, 1.7479300946241428e-5  …  2.6952469139630166e-6, 2.6952469139630166e-6, 2.6952469139630166e-6, 2.6952469139630166e-6, 2.6952469139630166e-6, 2.6952469139630166e-6, 2.6952469139630166e-6, 2.6952469139630166e-6, 2.6952469139630166e-6, 2.691333657941568e-6], [1.7755972832285925e-5, 1.7755972832285925e-5, 1.7755972832285925e-5, 1.7755972832285925e-5, 1.7755972832285925e-5, 1.7755972832285925e-5, 1.7755972832285925e-5, 1.7755972832285925e-5, 1.7755972832285925e-5, 1.7755972832285925e-5  …  1.945439771073828e-6, 1.945439771073828e-6, 1.945439771073828e-6, 1.945439771073828e-6, 1.945439771073828e-6, 1.945439771073828e-6, 1.945439771073828e-6, 1.945439771073828e-6, 1.945439771073828e-6, 1.945439771073828e-6], [1.7755972832294964e-5, 1.7755972832294964e-5, 1.7714083356860585e-5, 1.7535124810242745e-5, 1.6998249168101634e-5, 1.679728962524781e-5, 1.6703240296500724e-5, 1.6197689517387022e-5, 1.6138763251400786e-5, 1.5877918061663828e-5  …  1.5233983769945324e-6, 1.5227891758745313e-6, 1.521264628972872e-6, 1.51973201985661e-6, 1.5159323422517257e-6, 1.5154716291951408e-6, 1.5142378598080852e-6, 1.5124948502666643e-6, 1.5106606607508786e-6, 1.507584753330096e-6], [4.608490254399447, 4.608490254399447, 4.608490254399447, 4.608490254399447, 4.608490254399447, 4.608490254399447, 4.608490254399447, 4.608490254399447, 4.608490254399447, 4.608490254399447  …  0.035419872642592685, 0.03485962807956973, 0.034665167899914195, 0.034665167899914195, 0.034665167899914195, 0.03458160850810667, 0.033991826189336306, 0.033991826189336306, 0.033991826189336306, 0.033991826189336306], 39.25676416051283)"
      ]
     },
     "metadata": {},
     "output_type": "display_data"
    }
   ],
   "source": [
    "# LOAD BELGIAN\n",
    "BelgianBLM, BelgianBPLM, BelgianSUBG, BelgianSUBGEP, BelgianDA, BelgianDOWG, BelgianFGM, BelgianSUBGL, BelgianCG, BelgianSSUBG, BelgianFS = load_belgian(5e-6)\n",
    "CalifornianBLM, CalifornianBPLM, CalifornianSUBG, CalifornianSUBGEP, CalifornianDA, CalifornianDOWG, CalifornianFGM, CalifornianSUBGL, CalifornianCG, CalifornianFS = load_californian(5e-6)"
   ]
  },
  {
   "cell_type": "code",
   "execution_count": 5,
   "metadata": {},
   "outputs": [
    {
     "data": {
      "text/plain": [
       "time_to (generic function with 1 method)"
      ]
     },
     "metadata": {},
     "output_type": "display_data"
    }
   ],
   "source": [
    "function time_to(arr, target_acc)\n",
    "    for (idx, acc) in enumerate(arr)\n",
    "        if acc <= target_acc\n",
    "            return idx\n",
    "        end\n",
    "    end\n",
    "    return length(arr) + 100 # penalization is 100.\n",
    "end"
   ]
  },
  {
   "cell_type": "code",
   "execution_count": 9,
   "metadata": {},
   "outputs": [
    {
     "data": {
      "text/plain": [
       "get_y (generic function with 1 method)"
      ]
     },
     "metadata": {},
     "output_type": "display_data"
    }
   ],
   "source": [
    "function get_y(arr)\n",
    "    return [log10(1/minimum(arr))]\n",
    "end"
   ]
  },
  {
   "cell_type": "code",
   "execution_count": 18,
   "metadata": {},
   "outputs": [
    {
     "data": {
      "text/plain": [
       "\"c:\\\\Users\\\\Sofiane\\\\Documents\\\\ConvexHullPricing.jl\\\\notebooks\\\\BelgianScore.pdf\""
      ]
     },
     "metadata": {},
     "output_type": "display_data"
    }
   ],
   "source": [
    "plot(\n",
    "    title = \"Belgian dataset\",\n",
    "    xlabel = \"Time \" * L\"(t)\" * \" to reach \" * L\"5 \\cdot 10^{-6}\" * \" relative error\",\n",
    "    ylabel = \"Final relative error\",\n",
    "    xlims=(500,900),\n",
    "    ylims=(0,1.5e-5),\n",
    "    xticks=480:60:900,\n",
    "    xscale=:identity,\n",
    "    legend=:topleft,\n",
    "    titlefontsize=10,\n",
    "    labelfontsize=10,\n",
    "    bottom_margin = 15px,\n",
    "    left_margin = 30px,\n",
    ")\n",
    "scatter!([time_to(BelgianBPLM, 5e-6)], [minimum(BelgianBPLM)], label = \"Bundle Proximal Level\", markercolor = :orchid)\n",
    "scatter!([time_to(BelgianBLM, 5e-6)], [minimum(BelgianBLM)], label = \"Bundle Level\", markercolor = :plum4)\n",
    "scatter!([900.], [minimum(BelgianSUBG)], label = \"Subgradient\", markercolor = :navyblue, markershape = :rtriangle)\n",
    "scatter!([time_to(BelgianSUBGEP, 5e-6)], [minimum(BelgianSUBGEP)], label = \"Estimated Polyak Subgradient\", markercolor = :royalblue1)\n",
    "scatter!([time_to(BelgianSUBGL, 5e-6)], [minimum(BelgianSUBGL)], label = \"Last-iterate optimal Subgradient\", markercolor = :deepskyblue)\n",
    "scatter!([900.], [minimum(BelgianDA)], label = \"D-Adaptation\", markercolor = :tan2, markershape = :rtriangle)\n",
    "scatter!([900.], [minimum(BelgianDOWG)], label = \"DoWG\", markercolor = :sienna4, markershape = :rtriangle)\n",
    "scatter!([900.], [minimum(BelgianFGM)], label = \"Fast Gradient\", markercolor = :gold, markershape = :rtriangle)\n",
    "scatter!([time_to(BelgianCG, 5e-6)], [minimum(BelgianCG)], label = \"Dantzig-Wolfe\", markercolor = :green)\n",
    "savefig(\"BelgianScore.pdf\")"
   ]
  },
  {
   "cell_type": "code",
   "execution_count": 47,
   "metadata": {},
   "outputs": [
    {
     "data": {
      "text/plain": [
       "\"c:\\\\Users\\\\Sofiane\\\\Documents\\\\ConvexHullPricing.jl\\\\notebooks\\\\CalifornianScore.pdf\""
      ]
     },
     "metadata": {},
     "output_type": "display_data"
    }
   ],
   "source": [
    "plot(\n",
    "    title = \"Californian dataset\",\n",
    "    xlabel = \"Time \" * L\"(t)\" * \" to reach \" * L\"5 \\cdot 10^{-6}\" * \" relative error\",\n",
    "    ylabel = \"Final relative error\",\n",
    "    xlims=(0,900),\n",
    "    ylims=(0,6e-6),\n",
    "    xticks=0:60:900,\n",
    "    xscale=:identity,\n",
    "    legend=:topleft,\n",
    "    titlefontsize=10,\n",
    "    labelfontsize=10,\n",
    "    bottom_margin = 15px,\n",
    "    left_margin = 30px,\n",
    ")\n",
    "scatter!([time_to(CalifornianBPLM, 5e-6)], [minimum(CalifornianBPLM)], label = \"Bundle Proximal Level\", markercolor = :orchid)\n",
    "scatter!([time_to(CalifornianBLM, 5e-6)], [minimum(CalifornianBLM)], label = \"Bundle Level\", markercolor = :plum4)\n",
    "scatter!([time_to(CalifornianSUBG, 5e-6)], [minimum(CalifornianSUBG)], label = \"Subgradient\", markercolor = :navyblue)\n",
    "scatter!([time_to(CalifornianSUBGEP, 5e-6)], [minimum(CalifornianSUBGEP)], label = \"Estimated Polyak Subgradient\", markercolor = :royalblue1)\n",
    "scatter!([time_to(CalifornianSUBGL, 5e-6)], [minimum(CalifornianSUBGL)], label = \"Last-iterate optimal Subgradient\", markercolor = :deepskyblue)\n",
    "scatter!([time_to(CalifornianDA, 5e-6)], [minimum(CalifornianDA)], label = \"D-Adaptation\", markercolor = :tan2)\n",
    "scatter!([time_to(CalifornianDOWG, 5e-6)], [minimum(CalifornianDOWG)], label = \"DoWG\", markercolor = :sienna4)\n",
    "scatter!([time_to(CalifornianFGM, 5e-6)], [minimum(CalifornianFGM)], label = \"Fast Gradient\", markercolor = :gold)\n",
    "# scatter!([time_to(CalifornianCG, 5e-6)], [minimum(CalifornianCG)], label = \"Dantzig-Wolfe\", markercolor = :green)\n",
    "scatter!([900], [6e-6], label = \"Dantzig-Wolfe\", markercolor = :green, markershape=:diamond)\n",
    "savefig(\"CalifornianScore.pdf\")"
   ]
  },
  {
   "cell_type": "code",
   "execution_count": 26,
   "metadata": {},
   "outputs": [
    {
     "data": {
      "text/plain": [
       "2.5"
      ]
     },
     "metadata": {},
     "output_type": "display_data"
    }
   ],
   "source": [
    "mean([0., 5.])"
   ]
  },
  {
   "cell_type": "code",
   "execution_count": 48,
   "metadata": {},
   "outputs": [
    {
     "data": {
      "text/plain": [
       "avg_tuple (generic function with 1 method)"
      ]
     },
     "metadata": {},
     "output_type": "display_data"
    }
   ],
   "source": [
    "function avg_tuple(belgian_arr, californian_arr)\n",
    "    x = mean([time_to(belgian_arr, 5e-6), time_to(californian_arr, 5e-6)])\n",
    "    y = mean([minimum(belgian_arr), minimum(californian_arr)])\n",
    "    return (x, y)\n",
    "end"
   ]
  },
  {
   "cell_type": "code",
   "execution_count": 58,
   "metadata": {},
   "outputs": [
    {
     "data": {
      "text/plain": [
       "\"c:\\\\Users\\\\Sofiane\\\\Documents\\\\ConvexHullPricing.jl\\\\notebooks\\\\AverageScore.pdf\""
      ]
     },
     "metadata": {},
     "output_type": "display_data"
    }
   ],
   "source": [
    "plot(\n",
    "    title = \"Average over both datasets\",\n",
    "    xlabel = \"Time \" * L\"(t)\" * \" to reach \" * L\"5 \\cdot 10^{-6}\" * \" relative error\",\n",
    "    ylabel = \"Final relative error\",\n",
    "    xlims=(420,900),\n",
    "    ylims=(0,1.0e-5),\n",
    "    xticks=420:60:900,\n",
    "    xscale=:identity,\n",
    "    legend=:bottomright,\n",
    "    titlefontsize=10,\n",
    "    labelfontsize=10,\n",
    "    bottom_margin = 15px,\n",
    "    left_margin = 30px,\n",
    ")\n",
    "scatter!(avg_tuple(BelgianBPLM, CalifornianBPLM), label = \"Bundle Proximal Level\", markercolor = :orchid)\n",
    "scatter!(avg_tuple(BelgianBLM, CalifornianBLM), label = \"Bundle Level\", markercolor = :plum4)\n",
    "scatter!(avg_tuple(BelgianSUBG, CalifornianSUBG), label = \"Subgradient\", markercolor = :navyblue,)\n",
    "scatter!(avg_tuple(BelgianSUBGEP, CalifornianSUBGEP), label = \"Estimated Polyak Subgradient\", markercolor = :royalblue1)\n",
    "scatter!(avg_tuple(BelgianSUBGL, CalifornianSUBGL), label = \"Last-iterate optimal Subgradient\", markercolor = :deepskyblue)\n",
    "scatter!(avg_tuple(BelgianDA, CalifornianDA), label = \"D-Adaptation\", markercolor = :tan2,)\n",
    "scatter!(avg_tuple(BelgianDOWG, CalifornianDOWG), label = \"DoWG\", markercolor = :sienna4,)\n",
    "scatter!(avg_tuple(BelgianFGM, CalifornianFGM), label = \"Fast Gradient\", markercolor = :gold,)\n",
    "scatter!((719.5, 1.0e-5), label = \"Dantzig-Wolfe\", markercolor = :green, markershape=:utriangle)\n",
    "savefig(\"AverageScore.pdf\")"
   ]
  },
  {
   "cell_type": "code",
   "execution_count": 34,
   "metadata": {},
   "outputs": [
    {
     "data": {
      "text/plain": [
       "(719.5, 0.016995913094668153)"
      ]
     },
     "metadata": {},
     "output_type": "display_data"
    }
   ],
   "source": [
    "avg_tuple(BelgianCG, CalifornianCG)"
   ]
  }
 ],
 "metadata": {
  "kernelspec": {
   "display_name": "Julia 1.10.2",
   "language": "julia",
   "name": "julia-1.10"
  },
  "language_info": {
   "file_extension": ".jl",
   "mimetype": "application/julia",
   "name": "julia",
   "version": "1.10.2"
  }
 },
 "nbformat": 4,
 "nbformat_minor": 2
}
