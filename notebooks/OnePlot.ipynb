{
 "cells": [
  {
   "cell_type": "code",
   "execution_count": 1,
   "metadata": {},
   "outputs": [
    {
     "name": "stdout",
     "output_type": "stream",
     "text": [
      "Set parameter Username\n",
      "Academic license - for non-commercial use only - expires 2025-01-02\n",
      "Set parameter Username\n",
      "Academic license - for non-commercial use only - expires 2025-01-02\n"
     ]
    },
    {
     "data": {
      "text/plain": [
       "ConvexHullPricing.Optimizer"
      ]
     },
     "metadata": {},
     "output_type": "display_data"
    }
   ],
   "source": [
    "using Revise\n",
    "using ConvexHullPricing\n",
    "using DataFrames\n",
    "using Plots, LaTeXStrings\n",
    "using JLD2\n",
    "using Statistics, JuMP, Gurobi\n",
    "\n",
    "const UT = ConvexHullPricing.Utilitaries\n",
    "const OPT = ConvexHullPricing.Optimizer"
   ]
  },
  {
   "cell_type": "code",
   "execution_count": 2,
   "metadata": {},
   "outputs": [
    {
     "data": {
      "text/plain": [
       "refine (generic function with 2 methods)"
      ]
     },
     "metadata": {},
     "output_type": "display_data"
    }
   ],
   "source": [
    "function mon(array)\n",
    "    result = Float64[]\n",
    "    last = array[1]\n",
    "    for elt in array\n",
    "      new_last = minimum([elt, last])\n",
    "      push!(result, new_last)\n",
    "      last = new_last\n",
    "    end\n",
    "    return result\n",
    "end\n",
    "RANGE = 0:1:900\n",
    "function refine(valuevec, timevec, trange = RANGE)\n",
    "    new_values = Float64[]\n",
    "    for t in trange\n",
    "        push!(new_values, valuevec[searchsortedfirst(timevec[2:end], t)])\n",
    "    end\n",
    "    return new_values\n",
    "end"
   ]
  },
  {
   "cell_type": "code",
   "execution_count": 3,
   "metadata": {},
   "outputs": [
    {
     "data": {
      "text/plain": [
       "load_californian (generic function with 1 method)"
      ]
     },
     "metadata": {},
     "output_type": "display_data"
    }
   ],
   "source": [
    "function load_belgian(eps)\n",
    "    matrixBLM = []\n",
    "    matrixBPLM = []\n",
    "    matrixSUBG = []\n",
    "    matrixSGEP = []\n",
    "    matrixDA = []\n",
    "    matrixDWG = []\n",
    "    matrixFGM = []\n",
    "    matrixSUBGL = []\n",
    "    matrixCG = []\n",
    "    matrixFS = []\n",
    "    for idx=1:8\n",
    "        FS = maximum(load_object(\"..//results//optimal_values//NewRefinedOptRunBE$(idx).jld2\")[3])\n",
    "        XBLM, ITBLM, BLM, TBLM = load_object(\"..//results//15min_runs//BundleLevelMethodBE$(idx).jld2\")\n",
    "        XBPLM, ITBPLM, BPLM, TBPLM = load_object(\"..//results//15min_runs//BundleProximalLevelMethod-L-BE$(idx).jld2\")\n",
    "        XSUBG, ITSUBG, SUBG, TSUBG = load_object(\"..//results//15min_runs//SubGBE$(idx).jld2\")\n",
    "        XSGEP, ITSGEP, SGEP, TSGEP = load_object(\"..//results//15min_runs//SubG-EP-BE$(idx).jld2\")\n",
    "        XDA, ITDA, DA, TDA = load_object(\"..//results//15min_runs//D-AdaptationBE$(idx).jld2\")\n",
    "        XDWG, ITDWG, DWG, TDWG = load_object(\"..//results//15min_runs//DowGBE$(idx).jld2\")\n",
    "        XFGM, ITFGM, FGM, TFGM = load_object(\"..//results//15min_runs//FGMBE$(idx).jld2\")\n",
    "        XSUBGL, ITSUBGL, SUBGL, TSUBGL = load_object(\"..//results//15min_runs//LSUBGBE$(idx).jld2\")\n",
    "        XCG, ITCG, CG, TCG = load_object(\"..//results//15min_runs//ColumnGeneration-BE$(idx).jld2\")\n",
    "        FS = maximum([FS, maximum(CG)])\n",
    "        CG = mon(refine(FS .- CG, TCG))\n",
    "        BLM = mon(refine(FS .- BLM, TBLM))\n",
    "        BPLM = mon(refine(FS .- BPLM, TBPLM))\n",
    "        SUBG = mon(refine(FS .- SUBG, TSUBG))\n",
    "        SGEP = mon(refine(FS .- SGEP, TSGEP))\n",
    "        DA = mon(refine(FS .- DA, TDA))\n",
    "        DWG = mon(refine(FS .- DWG, TDWG))\n",
    "        FGM = mon(refine(FS .- FGM, TFGM))\n",
    "        SUBGL = mon(refine(FS .- SUBGL, TSUBGL))\n",
    "        push!(matrixFS, FS * (eps))\n",
    "        push!(matrixBLM, BLM)\n",
    "        push!(matrixCG, CG)\n",
    "        push!(matrixBPLM, BPLM)\n",
    "        push!(matrixSUBG, SUBG)\n",
    "        push!(matrixSGEP, SGEP)\n",
    "        push!(matrixDA, DA)\n",
    "        push!(matrixDWG, DWG)\n",
    "        push!(matrixFGM, FGM)\n",
    "        push!(matrixSUBGL, SUBGL)\n",
    "    end\n",
    "    return mean(matrixBLM), mean(matrixBPLM), mean(matrixSUBG), mean(matrixSGEP), mean(matrixDA), mean(matrixDWG), mean(matrixFGM), mean(matrixSUBGL), mean(matrixCG), mean(matrixFS)\n",
    "end\n",
    "function load_californian(eps)\n",
    "    matrixBLM = []\n",
    "    matrixBPLM = []\n",
    "    matrixSUBG = []\n",
    "    matrixSGEP = []\n",
    "    matrixDA = []\n",
    "    matrixDWG = []\n",
    "    matrixFGM = []\n",
    "    matrixSUBGL = []\n",
    "    matrixCG = []\n",
    "    matrixFS = []\n",
    "    for idx=1:20\n",
    "        if idx ∉ [9 10 11 12]\n",
    "        FS = maximum(load_object(\"..//results//optimal_values//NewRefinedOptRunCA$(idx).jld2\")[3])\n",
    "        XBLM, ITBLM, BLM, TBLM = load_object(\"..//results//15min_runs//BundleLevelMethodCA$(idx).jld2\")\n",
    "        XBPLM, ITBPLM, BPLM, TBPLM = load_object(\"..//results//15min_runs//BundleProximalLevelMethod-L-CA$(idx).jld2\")\n",
    "        XSUBG, ITSUBG, SUBG, TSUBG = load_object(\"..//results//15min_runs//SubGCA$(idx).jld2\")\n",
    "        XSGEP, ITSGEP, SGEP, TSGEP = load_object(\"..//results//15min_runs//SubG-EP-CA$(idx).jld2\")\n",
    "        XDA, ITDA, DA, TDA = load_object(\"..//results//15min_runs//D-AdaptationCA$(idx).jld2\")\n",
    "        XDWG, ITDWG, DWG, TDWG = load_object(\"..//results//15min_runs//DowGCA$(idx).jld2\")\n",
    "        XFGM, ITFGM, FGM, TFGM = load_object(\"..//results//15min_runs//FGMCA$(idx).jld2\")\n",
    "        XSUBGL, ITSUBGL, SUBGL, TSUBGL = load_object(\"..//results//15min_runs//LSUBGCA$(idx).jld2\")\n",
    "        XCG, ITCG, CG, TCG = load_object(\"..//results//15min_runs//ColumnGeneration-CA$(idx).jld2\")\n",
    "        FS = maximum([FS, maximum(CG)])\n",
    "        CG = mon(refine(FS .- CG, TCG))\n",
    "        BLM = mon(refine(FS .- BLM, TBLM))\n",
    "        BPLM = mon(refine(FS .- BPLM, TBPLM))\n",
    "        SUBG = mon(refine(FS .- SUBG, TSUBG))\n",
    "        SGEP = mon(refine(FS .- SGEP, TSGEP))\n",
    "        DA = mon(refine(FS .- DA, TDA))\n",
    "        DWG = mon(refine(FS .- DWG, TDWG))\n",
    "        FGM = mon(refine(FS .- FGM, TFGM))\n",
    "        SUBGL = mon(refine(FS .- SUBGL, TSUBGL))\n",
    "        push!(matrixFS, FS * (eps))\n",
    "        push!(matrixBLM, BLM)\n",
    "        push!(matrixCG, CG)\n",
    "        push!(matrixBPLM, BPLM)\n",
    "        push!(matrixSUBG, SUBG)\n",
    "        push!(matrixSGEP, SGEP)\n",
    "        push!(matrixDA, DA)\n",
    "        push!(matrixDWG, DWG)\n",
    "        push!(matrixFGM, FGM)\n",
    "        push!(matrixSUBGL, SUBGL)\n",
    "        end\n",
    "    end\n",
    "    return mean(matrixBLM), mean(matrixBPLM), mean(matrixSUBG), mean(matrixSGEP), mean(matrixDA), mean(matrixDWG), mean(matrixFGM), mean(matrixSUBGL), mean(matrixCG), mean(matrixFS)\n",
    "end"
   ]
  },
  {
   "cell_type": "code",
   "execution_count": 4,
   "metadata": {},
   "outputs": [
    {
     "data": {
      "text/plain": [
       "([153.67619504849426, 153.67619504849426, 153.67619504849426, 153.67619504849426, 153.67619504849426, 153.67619504849426, 153.67619504849426, 153.67619504849426, 153.67619504849426, 153.67619504849426  …  19.081409827340394, 19.081409827340394, 19.081409827340394, 19.081409827340394, 19.081409827340394, 19.081409827340394, 19.081409827340394, 19.081409827340394, 19.081409827340394, 19.081409827340394], [153.67619504861068, 153.67619504861068, 153.67619504861068, 153.67619504861068, 153.67619504861068, 153.67619504861068, 153.67619504861068, 153.67619504861068, 153.67619504861068, 153.67619504861068  …  10.474183014710434, 10.439254308352247, 10.426201395865064, 10.426201395865064, 10.405714034859557, 10.400825368997175, 10.400825368997175, 10.400825368997175, 10.367552514595445, 10.360330620664172], [153.67619504674803, 153.67619504674803, 153.67619504674803, 153.67619504674803, 153.67619504674803, 153.67619504674803, 153.67619504674803, 153.67619504674803, 153.67619504674803, 153.67619504674803  …  26.442784291284624, 26.417469850799534, 26.396582671732176, 26.375695492664818, 26.375695492664818, 26.375695492664818, 26.361029839434195, 26.361029839434195, 26.354188885656185, 26.354188885656185], [153.67619504814502, 153.67619504814502, 153.67619504814502, 153.67619504814502, 153.67619504814502, 153.67619504814502, 153.67619504814502, 153.67619504814502, 153.67619504814502, 153.67619504814502  …  19.972763628640678, 19.972763628640678, 19.963037515000906, 19.959972122276668, 19.959972122276668, 19.953161428275052, 19.953161428275052, 19.953161428275052, 19.94270224455977, 19.920045403356198], [153.67619504837785, 153.67619504837785, 153.67619504837785, 153.67619504837785, 153.67619504837785, 153.67619504837785, 153.67619504837785, 153.67619504837785, 153.67619504837785, 153.67619504837785  …  46.578009489225224, 46.578009489225224, 46.578009489225224, 46.578009489225224, 46.578009489225224, 46.578009489225224, 46.578009489225224, 46.578009489225224, 46.578009489225224, 46.578009489225224], [153.67619504767936, 153.67619504767936, 153.67619504767936, 153.67619504767936, 153.67619504767936, 153.67619504767936, 153.67619504767936, 153.67619504767936, 153.16213301196694, 151.6199469048879  …  21.377267899981234, 21.377267899981234, 21.377267899981234, 21.377267899981234, 21.377267899981234, 21.377267899981234, 21.377267899981234, 21.377267899981234, 21.377267899981234, 21.32685839693295], [153.67619504826143, 153.67619504826143, 153.67619504826143, 153.67619504826143, 153.67619504826143, 153.67619504826143, 153.67619504826143, 153.67619504826143, 153.67619504826143, 153.67619504826143  …  15.309049003524706, 15.309049003524706, 15.309049003524706, 15.309049003524706, 15.309049003524706, 15.309049003524706, 15.309049003524706, 15.309049003524706, 15.309049003524706, 15.309049003524706], [153.67619504837785, 153.67619504837785, 153.36486903217155, 152.2591247552191, 148.9418919244199, 147.48305992403766, 146.47127711900976, 143.61012568767183, 143.16154066374293, 141.4834653651924  …  12.559443374047987, 12.553763383242767, 12.534124583413359, 12.526110281411093, 12.48564149311278, 12.48243518883828, 12.475983575975988, 12.453530599654187, 12.44384767615702, 12.414461330452468], [4.225760733568267e7, 4.225760733568267e7, 4.225760733568267e7, 4.225760733568267e7, 4.225760733568267e7, 4.225760733568267e7, 4.225760733568267e7, 4.225760733568267e7, 4.225760733568267e7, 4.225760733568267e7  …  365679.58390260243, 362395.199522612, 361378.3305602743, 361378.3305602743, 361378.3305602743, 360757.3103086574, 353159.89438878704, 353159.89438878704, 353159.89438878704, 353159.89438878704], 39.25676416051283)"
      ]
     },
     "metadata": {},
     "output_type": "display_data"
    }
   ],
   "source": [
    "# LOAD BELGIAN\n",
    "BelgianBLM, BelgianBPLM, BelgianSUBG, BelgianSUBGEP, BelgianDA, BelgianDOWG, BelgianFGM, BelgianSUBGL, BelgianCG, BelgianFS = load_belgian(5e-6)\n",
    "CalifornianBLM, CalifornianBPLM, CalifornianSUBG, CalifornianSUBGEP, CalifornianDA, CalifornianDOWG, CalifornianFGM, CalifornianSUBGL, CalifornianCG, CalifornianFS = load_californian(5e-6)"
   ]
  },
  {
   "cell_type": "code",
   "execution_count": 11,
   "metadata": {},
   "outputs": [
    {
     "data": {
      "text/plain": [
       "\"/home/sofiane/Documents/ConvexHullPricing.jl/notebooks/OnePlotBelgian.pdf\""
      ]
     },
     "metadata": {},
     "output_type": "display_data"
    }
   ],
   "source": [
    "plot(\n",
    "    title = \"Belgian dataset\",\n",
    "    xlabel = \"Time \" * L\"(t)\" * \" (seconds)\",\n",
    "    ylabel = L\"\\mathcal{L}_* - \\mathcal{L}(t)\",\n",
    "    xlims=(0,900),\n",
    "    ylims=(0,800),\n",
    "    xticks=0:60:900,\n",
    "    xscale=:identity,\n",
    "    titlefontsize=10,\n",
    "    labelfontsize=10\n",
    ")\n",
    "plot!(BelgianBPLM, label = \"Bundle Proximal Level\", linecolor = :orchid)\n",
    "plot!(BelgianBLM, label = \"Bundle Level\", linecolor = :plum4)\n",
    "plot!(BelgianSUBGL, label = \"Last-iterate optimal Subgradient\", linecolor = :deepskyblue)\n",
    "plot!(BelgianSUBGEP, label = \"Estimated Polyak Subgradient\", linecolor = :royalblue1)\n",
    "plot!(BelgianSUBG, label = \"Subgradient\", linecolor = :navyblue)\n",
    "plot!(BelgianDA, label = \"D-Adaptation\", linecolor = :tan2)\n",
    "plot!(BelgianDOWG, label = \"DoWG\", linecolor = :sienna4)\n",
    "plot!(BelgianFGM, label = \"Fast Gradient\", linecolor = :gold)\n",
    "plot!(BelgianCG, label = \"Dantzig-Wolfe\", linecolor = :green)\n",
    "\n",
    "hline!([BelgianFS], label = L\"5 \\times 10^{-6}\" * \" relative error\", linecolor =:black)\n",
    "savefig(\"OnePlotBelgian.pdf\")"
   ]
  },
  {
   "cell_type": "code",
   "execution_count": 10,
   "metadata": {},
   "outputs": [
    {
     "data": {
      "text/plain": [
       "\"/home/sofiane/Documents/ConvexHullPricing.jl/notebooks/OnePlotCalifornian.pdf\""
      ]
     },
     "metadata": {},
     "output_type": "display_data"
    }
   ],
   "source": [
    "plot(\n",
    "    title = \"Californian dataset\",\n",
    "    xlabel = \"Time \" * L\"(t)\" * \" (seconds)\",\n",
    "    ylabel = L\"\\mathcal{L}_* - \\mathcal{L}(t)\",\n",
    "    xlims=(0,900),\n",
    "    ylims=(0,110),\n",
    "    xticks=0:60:900,\n",
    "    xscale=:identity,\n",
    "    titlefontsize=10,\n",
    "    labelfontsize=10\n",
    ")\n",
    "plot!(CalifornianBPLM, label = \"Bundle Proximal Level\", linecolor = :orchid)\n",
    "plot!(CalifornianBLM, label = \"Bundle Level\", linecolor = :plum4)\n",
    "plot!(CalifornianSUBGL, label = \"Last-iterate optimal Subgradient\", linecolor = :deepskyblue)\n",
    "plot!(CalifornianSUBGEP, label = \"Estimated Polyak Subgradient\", linecolor = :royalblue1)\n",
    "plot!(CalifornianSUBG, label = \"Subgradient\", linecolor = :navyblue)\n",
    "plot!(CalifornianDA, label = \"D-Adaptation\", linecolor = :tan2)\n",
    "plot!(CalifornianDOWG, label = \"DoWG\", linecolor = :sienna4)\n",
    "plot!(CalifornianFGM, label = \"Fast Gradient\", linecolor = :gold)\n",
    "plot!(CalifornianCG, label = \"Dantzig-Wolfe\", linecolor = :green)\n",
    "\n",
    "hline!([CalifornianFS], label = L\"5 \\times 10^{-6}\" * \" relative error\", linecolor =:black)\n",
    "savefig(\"OnePlotCalifornian.pdf\")"
   ]
  }
 ],
 "metadata": {
  "kernelspec": {
   "display_name": "Julia 1.10.0",
   "language": "julia",
   "name": "julia-1.10"
  },
  "language_info": {
   "file_extension": ".jl",
   "mimetype": "application/julia",
   "name": "julia",
   "version": "1.10.0"
  }
 },
 "nbformat": 4,
 "nbformat_minor": 2
}
