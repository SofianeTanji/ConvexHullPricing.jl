{
 "cells": [
  {
   "cell_type": "code",
   "execution_count": null,
   "metadata": {},
   "outputs": [],
   "source": [
    "using Revise\n",
    "using ConvexHullPricing\n",
    "using Gurobi\n",
    "using Plots\n",
    "using BenchmarkTools"
   ]
  },
  {
   "cell_type": "code",
   "execution_count": null,
   "metadata": {},
   "outputs": [],
   "source": [
    "ThermalGen = ConvexHullPricing.Utilitaries.ThermalGen(\n",
    "    MinRunCapacity = [6],\n",
    "    MaxRunCapacity = [16],\n",
    "    RampUp = [5],\n",
    "    RampDown = [5],\n",
    "    StartUp = [6],\n",
    "    ShutDown = [6],\n",
    "    UpTime = [1],\n",
    "    DownTime = [1],\n",
    "    NoLoadConsumption = [10],\n",
    "    MarginalCost = [53],\n",
    "    FixedCost = [30],\n",
    ")\n",
    "instance = ConvexHullPricing.Utilitaries.Instance(\n",
    "    LostLoad = 3000,\n",
    "    Load = [6 11 16 11],\n",
    "    ThermalGen = ThermalGen\n",
    ")\n",
    "\n",
    "LP_Relax = ConvexHullPricing.Utilitaries.LP_Relaxation(instance)\n",
    "T = length(instance.Load)\n",
    "N_ITER = 100"
   ]
  },
  {
   "cell_type": "code",
   "execution_count": null,
   "metadata": {},
   "outputs": [],
   "source": [
    "LP_Relax"
   ]
  },
  {
   "cell_type": "code",
   "execution_count": null,
   "metadata": {},
   "outputs": [],
   "source": [
    "using JLD2\n",
    "caBLMdf = load_object(\"C:\\\\Users\\\\Sofiane\\\\Desktop\\\\ConvexHullPricing\\\\results\\\\tables\\\\caBLMdf.jld2\")"
   ]
  },
  {
   "cell_type": "code",
   "execution_count": null,
   "metadata": {},
   "outputs": [],
   "source": [
    "optimals = load_object(\"C:\\\\Users\\\\Sofiane\\\\Desktop\\\\ConvexHullPricing\\\\results\\\\tables\\\\caOptimalDF.jld2\")"
   ]
  },
  {
   "cell_type": "code",
   "execution_count": 38,
   "metadata": {},
   "outputs": [
    {
     "data": {
      "text/plain": [
       "-6.755697900888386e-8"
      ]
     },
     "metadata": {},
     "output_type": "display_data"
    }
   ],
   "source": [
    "(caBLMdf.fiterates[1][end - 1] - last(optimals.fiterates[1]))/abs(last(optimals.fiterates[1]))"
   ]
  },
  {
   "cell_type": "code",
   "execution_count": 26,
   "metadata": {},
   "outputs": [
    {
     "ename": "ArgumentError",
     "evalue": "ArgumentError: syntax df[column] is not supported use df[!, column] instead",
     "output_type": "error",
     "traceback": [
      "ArgumentError: syntax df[column] is not supported use df[!, column] instead\n",
      "\n",
      "Stacktrace:\n",
      " [1] getindex(#unused#::DataFrames.DataFrame, #unused#::Int64)\n",
      "   @ DataFrames C:\\Users\\Sofiane\\.julia\\packages\\DataFrames\\58MUJ\\src\\abstractdataframe\\abstractdataframe.jl:2480\n",
      " [2] top-level scope\n",
      "   @ c:\\Users\\Sofiane\\Desktop\\ConvexHullPricing\\notebooks\\test_oracles.ipynb:1"
     ]
    }
   ],
   "source": [
    "opt = optimals[1]\n",
    "fiter = caBLMdf.fiterates[1]"
   ]
  },
  {
   "cell_type": "code",
   "execution_count": null,
   "metadata": {},
   "outputs": [],
   "source": [
    "opt, it, fs = ConvexHullPricing.Optimizer.ColumnGeneration(instance, LP_Relax, 1, 1e-5)\n",
    "@show last(fs)"
   ]
  },
  {
   "cell_type": "code",
   "execution_count": null,
   "metadata": {},
   "outputs": [],
   "source": [
    "((ItBLM, VBLM, oracle_time, solvetime), runtime) = @timed ConvexHullPricing.Optimizer.tBPM(instance, 127548., LP_Relax, .98, 1e-1)"
   ]
  },
  {
   "cell_type": "code",
   "execution_count": null,
   "metadata": {},
   "outputs": [],
   "source": [
    "@show oracle_time\n",
    "@show solvetime\n",
    "@show runtime\n",
    "@show length(ItBLM)"
   ]
  },
  {
   "cell_type": "code",
   "execution_count": null,
   "metadata": {},
   "outputs": [],
   "source": [
    "OptimalBLM, IteratesBLM, ValBLM = ConvexHullPricing.Optimizer.BundleLevelMethod(instance, LP_Relax, N_ITER, .98)"
   ]
  },
  {
   "cell_type": "code",
   "execution_count": null,
   "metadata": {},
   "outputs": [],
   "source": [
    "OptimalDA, IteratesDA, ValDA = ConvexHullPricing.Optimizer.DAdaptation(instance, LP_Relax, N_ITER, 1e-8)"
   ]
  },
  {
   "cell_type": "code",
   "execution_count": null,
   "metadata": {},
   "outputs": [],
   "source": [
    "instance = ConvexHullPricing.Utilitaries.load_data(\"C:\\\\Users\\\\Sofiane\\\\Desktop\\\\ConvexHullPricing\\\\data\\\\belgian-autumnwd.json\")\n",
    "LP_Relax = ConvexHullPricing.Utilitaries.LP_Relaxation(instance)\n",
    "T = length(instance.Load)"
   ]
  },
  {
   "cell_type": "code",
   "execution_count": null,
   "metadata": {},
   "outputs": [],
   "source": [
    "OptimalBLM, IteratesBLM, ValBLM = ConvexHullPricing.Optimizer.BundleLevelMethod(instance, LP_Relax, N_ITER, .8)\n",
    "OptimalDowG, IteratesDowG, ValDowG = ConvexHullPricing.Optimizer.DoWG(instance, LP_Relax, N_ITER, 1.)"
   ]
  },
  {
   "cell_type": "code",
   "execution_count": null,
   "metadata": {},
   "outputs": [],
   "source": [
    "OptimalBPM, IteratesBPM, ValBPM = ConvexHullPricing.Optimizer.BundleProximalMethod(instance, LP_Relax, N_ITER, .98, 1e-1)"
   ]
  },
  {
   "cell_type": "code",
   "execution_count": null,
   "metadata": {},
   "outputs": [],
   "source": [
    "OptimalDA, IteratesDA, ValDA = ConvexHullPricing.Optimizer.DAdaptation(instance, LP_Relax, 100, 1e3)"
   ]
  },
  {
   "cell_type": "code",
   "execution_count": null,
   "metadata": {},
   "outputs": [],
   "source": [
    "OptimalCG, IteratesCG = ConvexHullPricing.Optimizer.ColumnGeneration(instance, N_ITER, 1e-5)\n",
    "ValCG = []\n",
    "for price in IteratesCG \n",
    "    push!(ValCG, ConvexHullPricing.Utilitaries.fast_oracle(instance, price)[1])\n",
    "end"
   ]
  },
  {
   "cell_type": "code",
   "execution_count": null,
   "metadata": {},
   "outputs": [],
   "source": [
    "println(\"BLM : $(last(ValBLM))\")\n",
    "println(\"BPM : $(last(ValBPM))\")\n",
    "println(\"DowG : $(last(ValDowG))\")\n",
    "println(\"DAdapt : $(last(ValDA))\")\n",
    "println(\"OGM : $(last(ValOGM))\")\n",
    "println(\"CG : $(last(ValCG))\")"
   ]
  },
  {
   "cell_type": "code",
   "execution_count": null,
   "metadata": {},
   "outputs": [],
   "source": [
    "mu = .1\n",
    "OptimalOGM, IteratesOGM, ValOGM = ConvexHullPricing.Optimizer.OptimizedGradientMethod(instance, LP_Relax, N_ITER, mu)\n",
    "\n",
    "ValOGM = []\n",
    "for price in IteratesOGM\n",
    "    push!(ValOGM, ConvexHullPricing.Utilitaries.fast_oracle(instance, price)[1])\n",
    "end"
   ]
  },
  {
   "cell_type": "code",
   "execution_count": null,
   "metadata": {},
   "outputs": [],
   "source": [
    "# hline([-850], label = \"Optimal Value\", linewidth = 1.5)\n",
    "plot(-ValBLM, label = \"Bundle Level Method\", linewidth = 1.5)\n",
    "plot!(-ValBPM, label = \"Proximal Level Method\", linewidth = 1.5)\n",
    "plot!(-ValOGM, label = \"Optimized Gradient Method\", linewidth = 1.5)\n",
    "plot!(-ValDowG, label = \"DoWG\", linewidth = 1.5)\n",
    "plot!(-ValDA, label = \"D-Adaptation\", linewidth = 1.5)\n",
    "plot!(-ValCG, label = \"Column Generation\", linewidth = 1.5)\n",
    "plot!(size = (1000, 800))"
   ]
  }
 ],
 "metadata": {
  "kernelspec": {
   "display_name": "Julia 1.9.3",
   "language": "julia",
   "name": "julia-1.9"
  },
  "language_info": {
   "file_extension": ".jl",
   "mimetype": "application/julia",
   "name": "julia",
   "version": "1.9.3"
  },
  "orig_nbformat": 4
 },
 "nbformat": 4,
 "nbformat_minor": 2
}
