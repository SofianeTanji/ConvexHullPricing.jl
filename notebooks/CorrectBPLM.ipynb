{
 "cells": [
  {
   "cell_type": "code",
   "execution_count": null,
   "metadata": {},
   "outputs": [],
   "source": [
    "using ConvexHullPricing\n",
    "using Gurobi\n",
    "using Plots\n",
    "\n",
    "instance = ConvexHullPricing.Utilitaries.load_data(\"C:\\\\Users\\\\Sofiane\\\\Desktop\\\\ConvexHullPricing\\\\belgian_data\\\\belgian-autumnwd.json\")\n",
    "T = length(instance.Load)\n",
    "LP_Relax = ConvexHullPricing.Utilitaries.LP_Relaxation(instance)\n",
    "N_ITER = 50"
   ]
  },
  {
   "cell_type": "code",
   "execution_count": null,
   "metadata": {},
   "outputs": [],
   "source": [
    "OptimalBLM, IteratesBLM, ValBLM = ConvexHullPricing.Optimizer.BundleLevelMethod(instance, LP_Relax, N_ITER, .99)"
   ]
  },
  {
   "cell_type": "code",
   "execution_count": null,
   "metadata": {},
   "outputs": [],
   "source": [
    "OptimalBPM, IteratesBPM, ValBPM = ConvexHullPricing.Optimizer.ProximalLevelMethod(instance, LP_Relax, N_ITER, .99)"
   ]
  },
  {
   "cell_type": "code",
   "execution_count": null,
   "metadata": {},
   "outputs": [],
   "source": [
    "plot(-ValBLM, label = \"Level Method\", linewidth = 1.5)\n",
    "plot!(-ValBPM, label = \"Proximal Level Method\", linewidth = 1.5)\n",
    "plot!(size = (1000, 500))"
   ]
  }
 ],
 "metadata": {
  "kernelspec": {
   "display_name": "Julia 1.9.3",
   "language": "julia",
   "name": "julia-1.9"
  },
  "language_info": {
   "file_extension": ".jl",
   "mimetype": "application/julia",
   "name": "julia",
   "version": "1.9.3"
  }
 },
 "nbformat": 4,
 "nbformat_minor": 2
}
