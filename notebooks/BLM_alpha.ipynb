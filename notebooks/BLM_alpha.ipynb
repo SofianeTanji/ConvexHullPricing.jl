{
 "cells": [
  {
   "cell_type": "code",
   "execution_count": null,
   "metadata": {},
   "outputs": [],
   "source": [
    "using ConvexHullPricing, Gurobi, Plots, JLD2\n",
    "\n",
    "list_of_instances = [\n",
    "    ConvexHullPricing.Utilitaries.load_data(\"C:\\\\Users\\\\Sofiane\\\\Desktop\\\\ConvexHullPricing\\\\belgian_data\\\\belgian-autumnwd.json\"),\n",
    "    ConvexHullPricing.Utilitaries.load_data(\"C:\\\\Users\\\\Sofiane\\\\Desktop\\\\ConvexHullPricing\\\\belgian_data\\\\belgian-autumnwe.json\"),\n",
    "    ConvexHullPricing.Utilitaries.load_data(\"C:\\\\Users\\\\Sofiane\\\\Desktop\\\\ConvexHullPricing\\\\belgian_data\\\\belgian-springwd.json\"),\n",
    "    ConvexHullPricing.Utilitaries.load_data(\"C:\\\\Users\\\\Sofiane\\\\Desktop\\\\ConvexHullPricing\\\\belgian_data\\\\belgian-springwe.json\"),\n",
    "    ConvexHullPricing.Utilitaries.load_data(\"C:\\\\Users\\\\Sofiane\\\\Desktop\\\\ConvexHullPricing\\\\belgian_data\\\\belgian-summerwd.json\"),\n",
    "    ConvexHullPricing.Utilitaries.load_data(\"C:\\\\Users\\\\Sofiane\\\\Desktop\\\\ConvexHullPricing\\\\belgian_data\\\\belgian-summerwe.json\"),\n",
    "    ConvexHullPricing.Utilitaries.load_data(\"C:\\\\Users\\\\Sofiane\\\\Desktop\\\\ConvexHullPricing\\\\belgian_data\\\\belgian-winterwd.json\"),\n",
    "    ConvexHullPricing.Utilitaries.load_data(\"C:\\\\Users\\\\Sofiane\\\\Desktop\\\\ConvexHullPricing\\\\belgian_data\\\\belgian-winterwe.json\"),\n",
    "]\n",
    "list_of_alphas = [.9, .92, .94, .96, .98, .1]\n",
    "list_obj_match = []\n",
    "for idx in 1:length(list_of_instances)\n",
    "    push!(list_obj_match, ConvexHullPricing.Utilitaries.Matching(list_of_instances[idx]).Obj)\n",
    "end\n",
    "matrix = zeros(length(list_of_instances), length(list_of_alphas))"
   ]
  },
  {
   "cell_type": "code",
   "execution_count": null,
   "metadata": {},
   "outputs": [],
   "source": [
    "N_ITER = 200\n",
    "for (idx_inst, instance) in enumerate(list_of_instances)\n",
    "    obj_match = list_obj_match[idx_inst]\n",
    "    for (idx_alpha, alpha) in enumerate(list_of_alphas)\n",
    "        matrix[idx_inst, idx_alpha] = obj_match - last(ConvexHullPricing.Optimizer.BundleLevelMethod(instance, zeros(length(instance.Load)), N_ITER, alpha)[3])\n",
    "    end\n",
    "end"
   ]
  },
  {
   "cell_type": "code",
   "execution_count": null,
   "metadata": {},
   "outputs": [],
   "source": [
    "for i=1:8\n",
    "    fks = load_object(\"fks_belgian_$i\")\n",
    "    match = load_object(\"obj_match_belgian.jld2\")[i]\n",
    "    println((match - maximum(fks))./1e6)\n",
    "end"
   ]
  },
  {
   "cell_type": "code",
   "execution_count": null,
   "metadata": {},
   "outputs": [],
   "source": [
    "matrix./1e6"
   ]
  },
  {
   "cell_type": "code",
   "execution_count": null,
   "metadata": {},
   "outputs": [],
   "source": [
    "new = zero(matrix)\n",
    "for i in 1:8\n",
    "    elt = argmin(broadcast(abs, matrix[i,:]))\n",
    "    new[i, elt] = 1\n",
    "end\n",
    "new"
   ]
  }
 ],
 "metadata": {
  "kernelspec": {
   "display_name": "Julia 1.9.3",
   "language": "julia",
   "name": "julia-1.9"
  },
  "language_info": {
   "file_extension": ".jl",
   "mimetype": "application/julia",
   "name": "julia",
   "version": "1.9.3"
  }
 },
 "nbformat": 4,
 "nbformat_minor": 2
}
