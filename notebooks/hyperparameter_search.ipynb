{
 "cells": [
  {
   "cell_type": "markdown",
   "metadata": {},
   "source": [
    "# Finding hyperparameters for each method for each dataset using gridsearch"
   ]
  },
  {
   "cell_type": "code",
   "execution_count": 1,
   "metadata": {},
   "outputs": [
    {
     "name": "stdout",
     "output_type": "stream",
     "text": [
      "Set parameter Username\r\n",
      "Academic license - for non-commercial use only - expires 2024-10-03\r\n",
      "Set parameter Username\r\n",
      "Academic license - for non-commercial use only - expires 2024-10-03\r\n"
     ]
    },
    {
     "data": {
      "text/plain": [
       "ConvexHullPricing.Optimizer"
      ]
     },
     "metadata": {},
     "output_type": "display_data"
    }
   ],
   "source": [
    "using Revise\n",
    "using ConvexHullPricing\n",
    "using DataFrames\n",
    "using JLD2\n",
    "\n",
    "N_ITER = 10\n",
    "const UT = ConvexHullPricing.Utilitaries\n",
    "const OPT = ConvexHullPricing.Optimizer"
   ]
  },
  {
   "cell_type": "code",
   "execution_count": null,
   "metadata": {},
   "outputs": [],
   "source": [
    "ThermalGen = ConvexHullPricing.Utilitaries.ThermalGen(\n",
    "    MinRunCapacity = [6],\n",
    "    MaxRunCapacity = [16],\n",
    "    RampUp = [5],\n",
    "    RampDown = [5],\n",
    "    StartUp = [6],\n",
    "    ShutDown = [6],\n",
    "    UpTime = [1],\n",
    "    DownTime = [1],\n",
    "    NoLoadConsumption = [10],\n",
    "    MarginalCost = [53],\n",
    "    FixedCost = [30],\n",
    ")\n",
    "instance = ConvexHullPricing.Utilitaries.Instance(\n",
    "    LostLoad = 3000,\n",
    "    Load = [6 11 16 11 11 16 11 16 20],\n",
    "    ThermalGen = ThermalGen\n",
    ")\n",
    "LP_Relax = UT.LP_Relaxation(instance)\n",
    "ObjM = UT.Matching(instance).Obj"
   ]
  },
  {
   "cell_type": "markdown",
   "metadata": {},
   "source": [
    "## Belgian dataset"
   ]
  },
  {
   "cell_type": "code",
   "execution_count": null,
   "metadata": {},
   "outputs": [],
   "source": []
  },
  {
   "cell_type": "markdown",
   "metadata": {},
   "source": [
    "## Californian dataset"
   ]
  }
 ],
 "metadata": {
  "kernelspec": {
   "display_name": "Julia 1.9.3",
   "language": "julia",
   "name": "julia-1.9"
  },
  "language_info": {
   "file_extension": ".jl",
   "mimetype": "application/julia",
   "name": "julia",
   "version": "1.9.3"
  }
 },
 "nbformat": 4,
 "nbformat_minor": 2
}
