{
 "cells": [
  {
   "cell_type": "markdown",
   "metadata": {},
   "source": [
    "# Finding hyperparameters for each method for each dataset using gridsearch"
   ]
  },
  {
   "cell_type": "markdown",
   "metadata": {},
   "source": [
    "## Compile all methods on toy example"
   ]
  },
  {
   "cell_type": "code",
   "execution_count": 5,
   "metadata": {},
   "outputs": [
    {
     "data": {
      "text/plain": [
       "ConvexHullPricing.Optimizer"
      ]
     },
     "metadata": {},
     "output_type": "display_data"
    }
   ],
   "source": [
    "using Revise\n",
    "using ConvexHullPricing\n",
    "using DataFrames\n",
    "using Plots\n",
    "using JLD2\n",
    "using ProgressBars\n",
    "\n",
    "N_ITER = 1\n",
    "const UT = ConvexHullPricing.Utilitaries\n",
    "const OPT = ConvexHullPricing.Optimizer"
   ]
  },
  {
   "cell_type": "code",
   "execution_count": 116,
   "metadata": {},
   "outputs": [
    {
     "data": {
      "text/plain": [
       "-925.0"
      ]
     },
     "metadata": {},
     "output_type": "display_data"
    }
   ],
   "source": [
    "ThermalGen = ConvexHullPricing.Utilitaries.ThermalGen(\n",
    "    MinRunCapacity = [6],\n",
    "    MaxRunCapacity = [16],\n",
    "    RampUp = [5],\n",
    "    RampDown = [5],\n",
    "    StartUp = [6],\n",
    "    ShutDown = [6],\n",
    "    UpTime = [1],\n",
    "    DownTime = [1],\n",
    "    NoLoadConsumption = [10],\n",
    "    MarginalCost = [53],\n",
    "    FixedCost = [30],\n",
    ")\n",
    "instance = ConvexHullPricing.Utilitaries.Instance(\n",
    "    LostLoad = 3000,\n",
    "    Load = [6 11 16 11 11 16 11 16 20],\n",
    "    ThermalGen = ThermalGen\n",
    ")\n",
    "LP_Relax = UT.LP_Relaxation(instance)\n",
    "ObjM = UT.Matching(instance).Obj\n",
    "ValueAtInitialPoint = UT.fast_oracle(instance, LP_Relax)[1] .- ObjM"
   ]
  },
  {
   "cell_type": "code",
   "execution_count": 9,
   "metadata": {},
   "outputs": [
    {
     "data": {
      "text/plain": [
       "([79.56249444444444, 89.24999722222222, 88.0, 86.12499722222222, 84.24999722222222, 88.0, 84.24999722222222, 86.125, 2999.9999911111113], [[79.5625, 89.25, 88.0, 86.125, 84.25, 88.0, 84.25, 86.125, 3000.0], [79.56249444444444, 89.24999722222222, 88.0, 86.12499722222222, 84.24999722222222, 88.0, 84.24999722222222, 86.125, 2999.9999911111113]], Any[-332112.734275, -332112.9999244445])"
      ]
     },
     "metadata": {},
     "output_type": "display_data"
    }
   ],
   "source": [
    "#OPT.BundleLevelMethod(instance, LP_Relax, N_ITER, .9)\n",
    "#OPT.BundleProximalMethod(instance, LP_Relax, N_ITER, .9, 1e-1)\n",
    "#OPT.DAdaptation(instance, LP_Relax, N_ITER)\n",
    "OPT.DowG(instance, LP_Relax, N_ITER)\n",
    "OPT.OptimizedGradientMethod(instance, LP_Relax, N_ITER, 1e-5)\n",
    "#OPT.EstimatedPolyak(instance, LP_Relax, N_ITER, 1.)\n",
    "#OPT.SubgradientMethod(instance, LP_Relax, N_ITER, 1.)\n",
    "#OPT.lastSubgradientMethod(instance, LP_Relax, N_ITER, 1.)\n",
    "#OPT.StochasticSubgradientMethod(instance, LP_Relax, N_ITER, 1., 1)\n",
    "#OPT.ColumnGeneration(instance, LP_Relax, N_ITER, 1e-5)\n",
    "#OPT.ColumnAndRowGeneration(instance, N_ITER, 1e-5)"
   ]
  },
  {
   "cell_type": "code",
   "execution_count": 102,
   "metadata": {},
   "outputs": [
    {
     "data": {
      "text/plain": [
       "-2.6193447411060333e-9"
      ]
     },
     "metadata": {},
     "output_type": "display_data"
    }
   ],
   "source": [
    "OPT.BundleLevelMethod(instance, LP_Relax, 20, .98)[3][end] .- ObjM"
   ]
  },
  {
   "cell_type": "code",
   "execution_count": 117,
   "metadata": {},
   "outputs": [
    {
     "name": "stderr",
     "output_type": "stream",
     "text": [
      "\r0.0%┣                                                ┫ 0/1 [00:00<00:00, -0s/it]\n"
     ]
    },
    {
     "name": "stderr",
     "output_type": "stream",
     "text": [
      "\u001b[1A\r100.0%┣██████████████████████████████████████████┫ 1/1 [00:40<Inf:Inf, InfGs/it]\n",
      "\u001b[1A\r100.0%┣██████████████████████████████████████████┫ 1/1 [00:40<Inf:Inf, InfGs/it]\n"
     ]
    }
   ],
   "source": [
    "smooths = [1e-5]\n",
    "outputs = Float64[]\n",
    "for smooth in tqdm(smooths)\n",
    "    iterates = OPT.FastGradientMethod(instance, LP_Relax, 2000, smooth)[2]\n",
    "    push!(outputs, maximum([UT.fast_oracle(instance, x)[1] for x in iterates]) .- ObjM)\n",
    "end"
   ]
  },
  {
   "cell_type": "code",
   "execution_count": 118,
   "metadata": {},
   "outputs": [
    {
     "name": "stderr",
     "output_type": "stream",
     "text": [
      "┌ Info: -925.0\n",
      "└ @ Main c:\\Users\\Sofiane\\Desktop\\ConvexHullPricing\\notebooks\\hyperparameter_search.ipynb:1\n"
     ]
    },
    {
     "data": {
      "text/plain": [
       "1-element Vector{Float64}:\n",
       " -245.7965152527322"
      ]
     },
     "metadata": {},
     "output_type": "display_data"
    }
   ],
   "source": [
    "@info ValueAtInitialPoint\n",
    "outputs"
   ]
  },
  {
   "cell_type": "markdown",
   "metadata": {},
   "source": [
    "## Belgian dataset"
   ]
  },
  {
   "cell_type": "code",
   "execution_count": 119,
   "metadata": {},
   "outputs": [
    {
     "data": {
      "text/plain": [
       "-254389.44432210922"
      ]
     },
     "metadata": {},
     "output_type": "display_data"
    }
   ],
   "source": [
    "BEinstances = []\n",
    "for file in readdir(\"data\\\\belgian\"; join=true)\n",
    "    push!(BEinstances, UT.load_data(file))\n",
    "end\n",
    "instance = BEinstances[2]\n",
    "LP_Relax = UT.LP_Relaxation(instance)\n",
    "ObjM = UT.Matching(instance).Obj\n",
    "ValueAtInitialPoint = UT.fast_oracle(instance, LP_Relax)[1] .- ObjM"
   ]
  },
  {
   "cell_type": "code",
   "execution_count": 120,
   "metadata": {},
   "outputs": [
    {
     "name": "stderr",
     "output_type": "stream",
     "text": [
      "\r0.0%┣                                                ┫ 0/3 [00:00<00:00, -0s/it]"
     ]
    }
   ],
   "source": [
    "steps = [1e-5, 1e-3, 1e-1]\n",
    "outputs = Float64[]\n",
    "for step in tqdm(steps)\n",
    "    iterates = OPT.FastGradientMethod(instance, LP_Relax, 50, step)[2]\n",
    "    push!(outputs, maximum([UT.fast_oracle(instance, x)[1] for x in iterates]) .- ObjM)\n",
    "end"
   ]
  },
  {
   "cell_type": "code",
   "execution_count": null,
   "metadata": {},
   "outputs": [],
   "source": [
    "@info ValueAtInitialPoint\n",
    "outputs"
   ]
  },
  {
   "cell_type": "markdown",
   "metadata": {},
   "source": [
    "## Californian dataset"
   ]
  },
  {
   "cell_type": "code",
   "execution_count": 54,
   "metadata": {},
   "outputs": [
    {
     "data": {
      "text/plain": [
       "-102527.21235322952"
      ]
     },
     "metadata": {},
     "output_type": "display_data"
    }
   ],
   "source": [
    "CAinstances = []\n",
    "for file in readdir(\"data\\\\ca\"; join=true)\n",
    "    push!(CAinstances, UT.load_data(file))\n",
    "end\n",
    "instance = CAinstances[12]\n",
    "LP_Relax = UT.LP_Relaxation(instance)\n",
    "ObjM = UT.Matching(instance).Obj\n",
    "ValueAtInitialPoint = UT.fast_oracle(instance, LP_Relax)[1] .- ObjM"
   ]
  },
  {
   "cell_type": "code",
   "execution_count": 55,
   "metadata": {},
   "outputs": [
    {
     "name": "stderr",
     "output_type": "stream",
     "text": [
      "\r0.0%┣                                                ┫ 0/4 [00:00<00:00, -0s/it]"
     ]
    },
    {
     "name": "stderr",
     "output_type": "stream",
     "text": [
      "\n",
      "\u001b[1A\r25.0%┣██████████▊                                ┫ 1/4 [04:01<Inf:Inf, InfGs/it]\n"
     ]
    },
    {
     "name": "stderr",
     "output_type": "stream",
     "text": [
      "\u001b[1A\r50.0%┣███████████████████████                       ┫ 2/4 [08:19<16:38, 499s/it]\n"
     ]
    },
    {
     "name": "stderr",
     "output_type": "stream",
     "text": [
      "\u001b[1A\r75.0%┣██████████████████████████████████▌           ┫ 3/4 [12:50<06:25, 385s/it]\n"
     ]
    },
    {
     "name": "stderr",
     "output_type": "stream",
     "text": [
      "\u001b[1A\r100.0%┣█████████████████████████████████████████████┫ 4/4 [17:09<00:00, 343s/it]\n",
      "\u001b[1A\r100.0%┣█████████████████████████████████████████████┫ 4/4 [17:09<00:00, 343s/it]\n"
     ]
    }
   ],
   "source": [
    "steps = [5e-4]\n",
    "outputs = Float64[]\n",
    "for step in tqdm(steps)\n",
    "    iterates = OPT.StochasticSubgradientMethod(instance, LP_Relax, 50, step, 10)[2]\n",
    "    push!(outputs, maximum([UT.fast_oracle(instance, x)[1] for x in iterates]) .- ObjM)\n",
    "end"
   ]
  },
  {
   "cell_type": "code",
   "execution_count": 57,
   "metadata": {},
   "outputs": [
    {
     "name": "stderr",
     "output_type": "stream",
     "text": [
      "┌ Info: -102527.21235322952\n",
      "└ @ Main c:\\Users\\Sofiane\\Desktop\\ConvexHullPricing\\notebooks\\hyperparameter_search.ipynb:1\n"
     ]
    },
    {
     "data": {
      "text/plain": [
       "4-element Vector{Float64}:\n",
       " -102500.20404720306\n",
       " -102527.21235322952\n",
       " -102527.21235322952\n",
       " -102527.21235322952"
      ]
     },
     "metadata": {},
     "output_type": "display_data"
    }
   ],
   "source": [
    "@info ValueAtInitialPoint\n",
    "outputs"
   ]
  }
 ],
 "metadata": {
  "kernelspec": {
   "display_name": "Julia 1.9.3",
   "language": "julia",
   "name": "julia-1.9"
  },
  "language_info": {
   "file_extension": ".jl",
   "mimetype": "application/julia",
   "name": "julia",
   "version": "1.9.3"
  }
 },
 "nbformat": 4,
 "nbformat_minor": 2
}
