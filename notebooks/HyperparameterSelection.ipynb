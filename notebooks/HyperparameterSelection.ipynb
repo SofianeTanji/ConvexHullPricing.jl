{
 "cells": [
  {
   "cell_type": "code",
   "execution_count": null,
   "metadata": {},
   "outputs": [],
   "source": [
    "function mon(array)\n",
    "  result = Float64[]\n",
    "  last = array[1]\n",
    "  for elt in array\n",
    "    new_last = minimum([elt, last])\n",
    "    push!(result, new_last)\n",
    "    last = new_last\n",
    "  end\n",
    "  return result\n",
    "end\n",
    "using Revise\n",
    "using ConvexHullPricing\n",
    "using Plots\n",
    "using JLD2\n",
    "\n",
    "const UT = ConvexHullPricing.Utilitaries\n",
    "const OPT = ConvexHullPricing.Optimizer"
   ]
  },
  {
   "cell_type": "code",
   "execution_count": null,
   "metadata": {},
   "outputs": [],
   "source": [
    "CoarseResults = load_object(\"..//results//HPopt//nCoarseBLM-BE.jld2\")"
   ]
  },
  {
   "cell_type": "code",
   "execution_count": null,
   "metadata": {},
   "outputs": [],
   "source": [
    "plot(title=\"BLM\")\n",
    "FS = maximum(load_object(\"..//results//optimal_values//NewRefinedOptRunBE8.jld2\")[3])\n",
    "for result in CoarseResults[5:10]\n",
    "  plot!(result[5][2:end], mon(FS .- result[4]), label=\"$(result[1])\")\n",
    "end\n",
    "plot!(xlabel=\"Time\")"
   ]
  },
  {
   "cell_type": "code",
   "execution_count": null,
   "metadata": {},
   "outputs": [],
   "source": []
  }
 ],
 "metadata": {
  "kernelspec": {
   "display_name": "Julia 1.10.2",
   "language": "julia",
   "name": "julia-1.10"
  },
  "language_info": {
   "file_extension": ".jl",
   "mimetype": "application/julia",
   "name": "julia",
   "version": "1.10.2"
  }
 },
 "nbformat": 4,
 "nbformat_minor": 2
}
