{
 "cells": [
  {
   "cell_type": "code",
   "execution_count": 19,
   "metadata": {},
   "outputs": [
    {
     "data": {
      "text/plain": [
       "600"
      ]
     },
     "metadata": {},
     "output_type": "display_data"
    }
   ],
   "source": [
    "# Name of the method, Number of hyperparameters, Name of the hyperparameter(s), Value(s) of the hyperparameter(s) for each dataset\n",
    "# Subgradient Method Vanishing Step Length, 1 hyperparameter, Initial Step length\n",
    "# Optimal Subgradient Method Last Iterate, 1 hyperparameter, Bound on the distance to solution\n",
    "# Subgradient Method Polyak Stepsizes, 0 hyperparameter, None, None\n",
    "# Subgradient Method Estimated Polyak Stepsizes, 1 hyperparameter, Initial estimation of quality of stepsize\n",
    "# Restarted Subgradient Method, 2 hyperparameters, Number of restarts and initial step length\n",
    "# D-Adaptation, 1 hyperparameter, Bound on the distance to solution \n",
    "# DowG, 1 hyperparameter, Bound on the distance to solution\n",
    "# Bundle Level Method, 1 hyperparameter, Level set parameter\n",
    "# Bundle Proximal Level Method - best iterate, 1 hyperparameter, Level set parameter\n",
    "# Bundle Proximal Level Method - last iterate, 1 hyperparameter, Level set parameter\n",
    "# Gradient Descent, 2 hyperparameters, Smoothing parameter and constant step length\n",
    "# Fast Gradient Method, 2 hyperparameters, Smoothing parameter and constant step length\n",
    "# Column Generation, 1 hyperparameter, Precision parameter\n",
    "# Column and Row Generation, 1 hyperparameter, Precision parameter\n",
    "using Revise\n",
    "using ConvexHullPricing\n",
    "using Plots\n",
    "using JLD2\n",
    "using HyperTuning\n",
    "\n",
    "const UT = ConvexHullPricing.Utilitaries\n",
    "const OPT = ConvexHullPricing.Optimizer\n",
    "\n",
    "BEinstances = []\n",
    "for file in readdir(\"..//data//belgian\"; join=true)\n",
    "  push!(BEinstances, UT.load_data(file))\n",
    "end\n",
    "\n",
    "instance = BEinstances[4]\n",
    "X0 = UT.LP_Relaxation(instance)\n",
    "τ = 600"
   ]
  },
  {
   "cell_type": "code",
   "execution_count": 20,
   "metadata": {},
   "outputs": [],
   "source": [
    "function objective(trial)\n",
    "  @unpack alpha = trial\n",
    "  return maximum(OPT.tBundleLevelMethod(instance, X0, τ, alpha)[3])\n",
    "end\n",
    "\n",
    "scenario = Scenario(\n",
    "  alpha=(0.1 .. 0.9),\n",
    "  max_trials=9)\n",
    "HyperTuning.optimize(objective, scenario)"
   ]
  }
 ],
 "metadata": {
  "kernelspec": {
   "display_name": "Julia 1.10.0",
   "language": "julia",
   "name": "julia-1.10"
  },
  "language_info": {
   "file_extension": ".jl",
   "mimetype": "application/julia",
   "name": "julia",
   "version": "1.10.0"
  }
 },
 "nbformat": 4,
 "nbformat_minor": 2
}
