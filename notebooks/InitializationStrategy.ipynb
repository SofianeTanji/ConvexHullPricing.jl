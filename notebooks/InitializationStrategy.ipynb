{
 "cells": [
  {
   "cell_type": "code",
   "execution_count": 1,
   "metadata": {},
   "outputs": [
    {
     "name": "stdout",
     "output_type": "stream",
     "text": [
      "Set parameter Username\n",
      "Academic license - for non-commercial use only - expires 2025-01-02\n",
      "Set parameter Username\n",
      "Academic license - for non-commercial use only - expires 2025-01-02\n"
     ]
    },
    {
     "data": {
      "text/plain": [
       "ConvexHullPricing.Optimizer"
      ]
     },
     "metadata": {},
     "output_type": "display_data"
    }
   ],
   "source": [
    "using Revise\n",
    "using ConvexHullPricing\n",
    "using DataFrames\n",
    "using Plots\n",
    "using JLD2\n",
    "using ProgressBars, JuMP, Gurobi\n",
    "const UT = ConvexHullPricing.Utilitaries\n",
    "const OPT = ConvexHullPricing.Optimizer"
   ]
  },
  {
   "cell_type": "code",
   "execution_count": 2,
   "metadata": {},
   "outputs": [
    {
     "data": {
      "text/plain": [
       "96-element Vector{Float64}:\n",
       " 46.32467674418604\n",
       " 46.12901306144043\n",
       " 46.038775870471255\n",
       " 45.61395589668845\n",
       " 45.61817290998425\n",
       " 45.62216000011363\n",
       " 44.4739\n",
       " 44.4739\n",
       " 43.4767\n",
       " 43.93481206896551\n",
       "  ⋮\n",
       " 44.4739\n",
       " 42.90129197108141\n",
       " 46.86590802891859\n",
       " 46.93363629735374\n",
       " 47.16012499871823\n",
       " 49.04095296181497\n",
       " 47.44848357289528\n",
       " 44.4739\n",
       " 44.4739"
      ]
     },
     "metadata": {},
     "output_type": "display_data"
    }
   ],
   "source": [
    "BEinstances = []\n",
    "for file in readdir(\"..//data//belgian\"; join=true)\n",
    "  push!(BEinstances, UT.load_data(file))\n",
    "end\n",
    "instance = BEinstances[8]\n",
    "X0 = UT.LP_Relaxation(instance)"
   ]
  },
  {
   "cell_type": "code",
   "execution_count": 3,
   "metadata": {},
   "outputs": [
    {
     "data": {
      "text/plain": [
       "1.7272769652201183e7"
      ]
     },
     "metadata": {},
     "output_type": "display_data"
    }
   ],
   "source": [
    "FX0 = UT.exact_oracle(instance, X0)[1]\n",
    "FS = maximum(load_object(\"..//results//optimal_values//NewRefinedOptRunBE8.jld2\")[3])"
   ]
  },
  {
   "cell_type": "code",
   "execution_count": 4,
   "metadata": {},
   "outputs": [],
   "source": [
    "candidates = [k for k=20:0.5:60]\n",
    "values = Float64[]\n",
    "for price in candidates\n",
    "    π = price * ones(96)\n",
    "    push!(values, UT.exact_oracle(instance, π)[1])\n",
    "end"
   ]
  },
  {
   "cell_type": "code",
   "execution_count": 5,
   "metadata": {},
   "outputs": [
    {
     "data": {
      "text/plain": [
       "7.432081998004462e6"
      ]
     },
     "metadata": {},
     "output_type": "display_data"
    }
   ],
   "source": [
    "CAinstances = []\n",
    "for file in readdir(\"..//data//ca\"; join=true)\n",
    "  push!(CAinstances, UT.load_data(file))\n",
    "end\n",
    "instanceCA = CAinstances[1]\n",
    "X0CA = UT.LP_Relaxation(instanceCA)\n",
    "FX0CA = UT.exact_oracle(instanceCA, X0CA)[1]\n",
    "FSCA = maximum(load_object(\"..//results//optimal_values//NewRefinedOptRunCA1.jld2\")[3])"
   ]
  },
  {
   "cell_type": "code",
   "execution_count": 6,
   "metadata": {},
   "outputs": [],
   "source": [
    "candidatesCA = [k for k=0:0.5:20]\n",
    "valuesCA = Float64[]\n",
    "for price in candidatesCA\n",
    "    π = price * ones(48)\n",
    "    push!(valuesCA, UT.exact_oracle(instanceCA, π)[1])\n",
    "end"
   ]
  },
  {
   "cell_type": "code",
   "execution_count": 17,
   "metadata": {},
   "outputs": [
    {
     "data": {
      "text/plain": [
       "\"/home/sofiane/Documents/ConvexHullPricing.jl/notebooks/InitializationStrategy.pdf\""
      ]
     },
     "metadata": {},
     "output_type": "display_data"
    }
   ],
   "source": [
    "pltBE = plot(title = \"BE Winter Weekend\")\n",
    "plot!(pltBE, candidates, FS .- values, label = \"Constant plausible price\")\n",
    "hline!(pltBE, [FS - FX0], label = \"LP relaxation price\")\n",
    "pltCA = plot(title = \"CA 01/09/2014\")\n",
    "plot!(pltCA, candidatesCA, FSCA .- valuesCA, label = \"Constant plausible price\")\n",
    "hline!(pltCA, [FSCA - FX0CA], label = \"LP relaxation price\")\n",
    "plot(pltBE, pltCA, xlabel = \"Price π (€)\", ylabel = \"L* - L(π)\", yscale=:log10)\n",
    "savefig(\"InitializationStrategy.pdf\")"
   ]
  },
  {
   "cell_type": "code",
   "execution_count": 63,
   "metadata": {},
   "outputs": [
    {
     "data": {
      "text/plain": [
       "\"/home/sofiane/Documents/ConvexHullPricing.jl/notebooks/Initialization_CA.pdf\""
      ]
     },
     "metadata": {},
     "output_type": "display_data"
    }
   ],
   "source": [
    "plot(xlabel = \"Price π (€)\", ylabel = \"L* - L(π)\")\n",
    "plot!(candidatesCA, FSCA .- valuesCA, label = \"Constant plausible price\")\n",
    "hline!([FSCA - FX0CA], label = \"LP relaxation price\", yscale=:log10)\n",
    "savefig(\"Initialization_CA.pdf\")"
   ]
  },
  {
   "cell_type": "code",
   "execution_count": 65,
   "metadata": {},
   "outputs": [
    {
     "data": {
      "text/plain": [
       "\"/home/sofiane/Documents/ConvexHullPricing.jl/notebooks/Initialization_BE.pdf\""
      ]
     },
     "metadata": {},
     "output_type": "display_data"
    }
   ],
   "source": [
    "plot(xlabel = \"Price π (€)\", ylabel = \"L* - L(π)\")\n",
    "plot!(candidates, FS .- values, label = \"Constant plausible price\")\n",
    "hline!([FS - FX0], label = \"LP relaxation price\", yscale=:log10)\n",
    "savefig(\"Initialization_BE.pdf\")"
   ]
  }
 ],
 "metadata": {
  "kernelspec": {
   "display_name": "Julia 1.10.0",
   "language": "julia",
   "name": "julia-1.10"
  },
  "language_info": {
   "file_extension": ".jl",
   "mimetype": "application/julia",
   "name": "julia",
   "version": "1.10.0"
  }
 },
 "nbformat": 4,
 "nbformat_minor": 2
}
