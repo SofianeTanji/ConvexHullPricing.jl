{
 "cells": [
  {
   "cell_type": "code",
   "execution_count": null,
   "metadata": {},
   "outputs": [],
   "source": []
  },
  {
   "cell_type": "code",
   "execution_count": null,
   "metadata": {},
   "outputs": [],
   "source": []
  },
  {
   "cell_type": "code",
   "execution_count": null,
   "metadata": {},
   "outputs": [],
   "source": []
  },
  {
   "cell_type": "code",
   "execution_count": null,
   "metadata": {},
   "outputs": [],
   "source": [
    "using Revise\n",
    "using ConvexHullPricing\n",
    "using DataFrames\n",
    "using Plots\n",
    "using JLD2\n",
    "using ProgressBars, JuMP, Gurobi\n",
    "\n",
    "const UT = ConvexHullPricing.Utilitaries\n",
    "const OPT = ConvexHullPricing.Optimizer\n",
    "\n",
    "BEinstances = []\n",
    "for file in readdir(\"C:\\\\Users\\\\Sofiane\\\\Desktop\\\\ConvexHullPricing\\\\data\\\\belgian\"; join=true)\n",
    "    push!(BEinstances, UT.load_data(file))\n",
    "end\n",
    "CAinstances = []\n",
    "for file in readdir(\"C:\\\\Users\\\\Sofiane\\\\Desktop\\\\ConvexHullPricing\\\\data\\\\ca\"; join=true)\n",
    "    push!(CAinstances, UT.load_data(file))\n",
    "end\n",
    "allInstances = vcat(BEinstances, CAinstances)\n",
    "UltraOptimalRuns = []\n",
    "for instance in allInstances\n",
    "    LP_Relax = UT.LP_Relaxation(instance)\n",
    "    BLMxstar, BLMiterates, BLMfvalues, BLMtimevector = OPT.tBundleLevelMethod(instance, LP_Relax, 3600, .98)\n",
    "    push!(UltraOptimalBE, [BLMxstar, BLMiterates, BLMfvalues, BLMtimevector])\n",
    "end\n",
    "\n",
    "save_object(\"results//UltraOptimalRuns.jld2\", UltraOptimalRuns)"
   ]
  }
 ],
 "metadata": {
  "kernelspec": {
   "display_name": "Julia 1.9.3",
   "language": "julia",
   "name": "julia-1.9"
  },
  "language_info": {
   "file_extension": ".jl",
   "mimetype": "application/julia",
   "name": "julia",
   "version": "1.9.3"
  }
 },
 "nbformat": 4,
 "nbformat_minor": 2
}
